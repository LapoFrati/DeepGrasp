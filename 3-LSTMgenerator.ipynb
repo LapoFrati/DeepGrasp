{
 "cells": [
  {
   "cell_type": "code",
   "execution_count": 1,
   "metadata": {},
   "outputs": [
    {
     "name": "stdout",
     "output_type": "stream",
     "text": [
      "setGPU: Setting GPU to: 0\n"
     ]
    }
   ],
   "source": [
    "import setGPU\n",
    "import numpy as np\n",
    "import matplotlib.pyplot as plt\n",
    "\n",
    "from PIL import Image\n",
    "import pandas\n",
    "import time\n",
    "import math\n",
    "import pickle\n",
    "\n",
    "from functools import total_ordering\n",
    "\n",
    "import torch\n",
    "import torch.nn as nn\n",
    "import torch.nn.functional as F\n",
    "from torch.autograd import Variable\n",
    "from torch.utils.data import Dataset, DataLoader\n",
    "from torchvision import transforms, utils, models\n",
    "import torch.optim as optim\n",
    "from torch.nn.utils.rnn import pack_padded_sequence, pad_packed_sequence\n",
    "\n",
    "# Ignore warnings\n",
    "import warnings\n",
    "warnings.filterwarnings(\"ignore\")\n",
    "\n",
    "plt.ion()   # interactive mode"
   ]
  },
  {
   "cell_type": "code",
   "execution_count": 2,
   "metadata": {},
   "outputs": [],
   "source": [
    "from JupyterLoader import NotebookFinder\n",
    "import sys\n",
    "sys.meta_path.append(NotebookFinder())"
   ]
  },
  {
   "cell_type": "code",
   "execution_count": 3,
   "metadata": {},
   "outputs": [
    {
     "name": "stdout",
     "output_type": "stream",
     "text": [
      "importing Jupyter notebook from /home/frati/new_Grasping/code/dataloaders/synth_Berlino_dataloader.ipynb\n"
     ]
    }
   ],
   "source": [
    "#from dataloaders.unified_Berlino_dataloader import get_loaders\n",
    "from dataloaders.synth_Berlino_dataloader import get_loaders\n",
    "batch_size = 8\n",
    "num_workers = 4\n",
    "dataloaders, display, vocab = get_loaders(folder='/home/frati/',\n",
    "                               split = (0.3,0.5), \n",
    "                               dataset='full',\n",
    "                               batch_size=batch_size,\n",
    "                               shuffle=True,\n",
    "                               num_workers=num_workers,\n",
    "                               seed=5)"
   ]
  },
  {
   "cell_type": "code",
   "execution_count": 4,
   "metadata": {},
   "outputs": [],
   "source": [
    "def get_batch(phase):\n",
    "    return next(iter(dataloaders[phase]))"
   ]
  },
  {
   "cell_type": "code",
   "execution_count": null,
   "metadata": {},
   "outputs": [],
   "source": []
  },
  {
   "cell_type": "code",
   "execution_count": 5,
   "metadata": {},
   "outputs": [],
   "source": [
    "#from models.colorNet import ColorNet\n",
    "#from models.viewPooler import ViewPooler\n",
    "#from models.partialVGG import get_partialVGG"
   ]
  },
  {
   "cell_type": "code",
   "execution_count": 6,
   "metadata": {},
   "outputs": [
    {
     "name": "stdout",
     "output_type": "stream",
     "text": [
      "importing Jupyter notebook from utilities.ipynb\n"
     ]
    }
   ],
   "source": [
    "from utilities import AverageMeter, accuracy, get_trainable_parameters, varify"
   ]
  },
  {
   "cell_type": "code",
   "execution_count": 7,
   "metadata": {},
   "outputs": [],
   "source": [
    "from types import SimpleNamespace\n",
    "args = {'model_path':'./models/',\n",
    " 'crop_size': 224,\n",
    " 'vocab_path':'./data/vocab.pkl',\n",
    " 'image_dir':'./data/resized2014',\n",
    " 'caption_path':'./data/annotations/captions_train2014.json',\n",
    " 'log_step':10,\n",
    " 'save_step':1000,\n",
    " 'embed_size':256,\n",
    " 'hidden_size':512,\n",
    " 'num_layers':1,\n",
    " 'num_epochs':5,\n",
    " 'batch_size':128,\n",
    " 'num_workers':2,\n",
    " 'learning_rate':0.001}\n",
    "args = SimpleNamespace(**args)"
   ]
  },
  {
   "cell_type": "code",
   "execution_count": 8,
   "metadata": {},
   "outputs": [],
   "source": [
    "class ViewPooler(nn.Module):\n",
    "    def __init__(self, embed_size, views):\n",
    "        super(ViewPooler, self).__init__()\n",
    "        self.features_extractor = models.vgg16_bn(pretrained=True).features\n",
    "        for param in self.features_extractor.parameters(): # freeze VGG\n",
    "            param.requires_grad = False\n",
    "        self.view_pooling = nn.MaxPool2d(kernel_size=(views,1))\n",
    "        in_features = 512*7*7\n",
    "        self.relu = nn.ReLU()\n",
    "        self.fc_1 = nn.Linear(in_features, embed_size)\n",
    "        #self.fc_2 = nn.Linear(4096,embed_size)\n",
    "        self.dropout = nn.Dropout(p=0.3)\n",
    "        self.bn = nn.BatchNorm1d(in_features, momentum=0.01)\n",
    "\n",
    "    def forward(self, views):\n",
    "        views_features = [self.features_extractor(view) for view in views]\n",
    "        \n",
    "        ims,filters,h,w = views_features[0].shape\n",
    "        \n",
    "        flat_views = [view.view(ims,-1) for view in views_features]\n",
    "        stacked_views = torch.stack(flat_views,dim=1)\n",
    "        pooled_views = self.view_pooling(stacked_views).squeeze()\n",
    "        \n",
    "        features = Variable(pooled_views.data) # can set volatile to input images to avoid wasted gradients\n",
    "        features = self.bn(features)\n",
    "        features = self.fc_1(features)\n",
    "        \n",
    "        return features\n"
   ]
  },
  {
   "cell_type": "code",
   "execution_count": 18,
   "metadata": {},
   "outputs": [],
   "source": [
    "class ColorNet(nn.Module):\n",
    "    def __init__(self, pretrained = None):\n",
    "        super(ColorNet, self).__init__()\n",
    "        self.conv1 = nn.Conv2d(1, 10, 1)\n",
    "        self.conv2 = nn.Conv2d(10, 3, 1)\n",
    "        self.conv2_bn = nn.BatchNorm2d(3,affine=True)\n",
    "        if pretrained is None:\n",
    "            self.init_weights()\n",
    "        else:\n",
    "            state = torch.load(pretrained, map_location=lambda storage, loc: storage)\n",
    "            self.load_state_dict(state['state_dict'])\n",
    "\n",
    "    def forward(self, x):\n",
    "        x = F.relu(self.conv1(x))\n",
    "        x = F.relu(self.conv2(x))\n",
    "        return x\n",
    "    \n",
    "    def init_weights(self):\n",
    "        \"\"\"Initialize the weights.\"\"\"\n",
    "        self.conv1.weight.data.normal_(1/3, 0.01)\n",
    "        self.conv1.bias.data.fill_(0)\n",
    "        self.conv2.weight.data.normal_(1/3, 0.01)\n",
    "        self.conv2.bias.data.fill_(0)\n",
    "        \n",
    "class colorPooler(nn.Module):\n",
    "    def __init__(self, embed_size, views):\n",
    "        super(colorPooler, self).__init__()\n",
    "        self.features_extractor = nn.Sequential(ColorNet(pretrained='/home/frati/new_Grasping/code/models/pseudo_colorer.pth.tar'), models.vgg16_bn(pretrained=True).features)\n",
    "        for param in self.features_extractor[1].parameters(): # freeze VGG\n",
    "            param.requires_grad = False\n",
    "        self.view_pooling = nn.MaxPool2d(kernel_size=(views,1))\n",
    "        in_features = 512*7*7\n",
    "        self.relu = nn.ReLU()\n",
    "        self.fc_1 = nn.Linear(in_features, embed_size)\n",
    "        #self.fc_2 = nn.Linear(4096,embed_size)\n",
    "        self.dropout = nn.Dropout(p=0.3)\n",
    "        self.bn = nn.BatchNorm1d(in_features, momentum=0.01)\n",
    "\n",
    "    def forward(self, views):\n",
    "        views_features = [self.features_extractor(view) for view in views]\n",
    "        \n",
    "        ims,filters,h,w = views_features[0].shape\n",
    "        \n",
    "        flat_views = [view.view(ims,-1) for view in views_features]\n",
    "        stacked_views = torch.stack(flat_views,dim=1)\n",
    "        pooled_views = self.view_pooling(stacked_views).squeeze()\n",
    "        \n",
    "        features = Variable(pooled_views.data) # can set volatile to input images to avoid wasted gradients\n",
    "        features = self.bn(features)\n",
    "        features = self.fc_1(features)\n",
    "        \n",
    "        return features"
   ]
  },
  {
   "cell_type": "code",
   "execution_count": 19,
   "metadata": {},
   "outputs": [],
   "source": [
    "encoder = colorPooler(embed_size = args.embed_size, views=4)"
   ]
  },
  {
   "cell_type": "code",
   "execution_count": null,
   "metadata": {},
   "outputs": [],
   "source": []
  },
  {
   "cell_type": "code",
   "execution_count": null,
   "metadata": {},
   "outputs": [],
   "source": []
  },
  {
   "cell_type": "code",
   "execution_count": 20,
   "metadata": {},
   "outputs": [],
   "source": [
    "class DecoderRNN(nn.Module):\n",
    "    def __init__(self, embed_size, hidden_size, vocab_size, num_layers):\n",
    "        \"\"\"Set the hyper-parameters and build the layers.\"\"\"\n",
    "        super(DecoderRNN, self).__init__()\n",
    "        self.embed = nn.Embedding(vocab_size, embed_size)\n",
    "        self.lstm = nn.LSTM(embed_size, hidden_size, num_layers, batch_first=True)\n",
    "        self.linear = nn.Linear(hidden_size, vocab_size)\n",
    "        self.init_weights()\n",
    "    \n",
    "    def init_weights(self):\n",
    "        \"\"\"Initialize weights.\"\"\"\n",
    "        self.embed.weight.data.uniform_(-0.1, 0.1)\n",
    "        self.linear.weight.data.uniform_(-0.1, 0.1)\n",
    "        self.linear.bias.data.fill_(0)\n",
    "        \n",
    "    def forward(self, features, tags, lengths):\n",
    "        \"\"\"Decode image feature vectors and generates captions.\"\"\"\n",
    "        embeddings = self.embed(tags)\n",
    "        embeddings = torch.cat((features.unsqueeze(1), embeddings), 1)\n",
    "        packed = pack_padded_sequence(embeddings, lengths, batch_first=True) \n",
    "        hiddens, _ = self.lstm(packed)\n",
    "        outputs = self.linear(hiddens[0])\n",
    "        return outputs\n",
    "    \n",
    "    def sample(self, features, states=None):\n",
    "        \"\"\"Samples captions for given image features (Greedy search).\"\"\"\n",
    "        sampled_ids = []\n",
    "        inputs = features.unsqueeze(1)\n",
    "        for i in range(20):                                      # maximum sampling length\n",
    "            hiddens, states = self.lstm(inputs, states)          # (batch_size, 1, hidden_size), \n",
    "            outputs = self.linear(hiddens.squeeze(1))            # (batch_size, vocab_size)\n",
    "            predicted = outputs.max(1)[1]\n",
    "            sampled_ids.append(predicted)\n",
    "            inputs = self.embed(predicted)\n",
    "            inputs = inputs.unsqueeze(1)                         # (batch_size, 1, embed_size)\n",
    "        sampled_ids = torch.stack(sampled_ids, 1)                  # (batch_size, 20)\n",
    "        return sampled_ids.squeeze()\n",
    "    \n",
    "    def my_sample(self, features, states=None):\n",
    "        \"\"\"Samples captions for given image features (Greedy search).\"\"\"\n",
    "        sampled_ids = []\n",
    "        inputs = features.unsqueeze(1)\n",
    "        stop = False\n",
    "        while not stop:                                      # maximum sampling length\n",
    "            hiddens, states = self.lstm(inputs, states)          # (batch_size, 1, hidden_size), \n",
    "            outputs = self.linear(hiddens.squeeze(1))            # (batch_size, vocab_size)\n",
    "            predicted = outputs.max(1)[1]\n",
    "            sampled_ids.append(predicted)\n",
    "            stop = vocab.is_stop(predicted.cpu().data.numpy())\n",
    "            inputs = self.embed(predicted)\n",
    "            inputs = inputs.unsqueeze(1)                         # (batch_size, 1, embed_size)\n",
    "        sampled_ids = torch.stack(sampled_ids, 1)                  # (batch_size, 20)\n",
    "        return sampled_ids.squeeze()\n",
    "    "
   ]
  },
  {
   "cell_type": "code",
   "execution_count": 21,
   "metadata": {},
   "outputs": [],
   "source": [
    "decoder = DecoderRNN(args.embed_size, args.hidden_size, len(vocab), args.num_layers)"
   ]
  },
  {
   "cell_type": "code",
   "execution_count": null,
   "metadata": {},
   "outputs": [],
   "source": []
  },
  {
   "cell_type": "code",
   "execution_count": 22,
   "metadata": {},
   "outputs": [],
   "source": [
    "if torch.cuda.is_available():\n",
    "    encoder.cuda()\n",
    "    decoder.cuda()"
   ]
  },
  {
   "cell_type": "code",
   "execution_count": null,
   "metadata": {},
   "outputs": [],
   "source": []
  },
  {
   "cell_type": "code",
   "execution_count": 23,
   "metadata": {},
   "outputs": [
    {
     "name": "stdout",
     "output_type": "stream",
     "text": [
      "Trainable parameters:\t     6473019\n",
      "Frozen parameters:\t    14723136\n"
     ]
    }
   ],
   "source": [
    "# Loss and Optimizer\n",
    "criterion = nn.CrossEntropyLoss()\n",
    "params = list(decoder.parameters()) + get_trainable_parameters(encoder)\n",
    "optimizer = torch.optim.Adam(params, lr=args.learning_rate)"
   ]
  },
  {
   "cell_type": "code",
   "execution_count": 24,
   "metadata": {},
   "outputs": [
    {
     "name": "stdout",
     "output_type": "stream",
     "text": [
      "Epoch [0/5], Step [0/377], Loss: 8.2953, Perplexity: 4005.1631\n",
      "Epoch [0/5], Step [10/377], Loss: 5.8576, Perplexity: 349.8797\n",
      "Epoch [0/5], Step [20/377], Loss: 3.5936, Perplexity: 36.3643\n",
      "Epoch [0/5], Step [30/377], Loss: 3.4270, Perplexity: 30.7829\n",
      "Epoch [0/5], Step [40/377], Loss: 3.0013, Perplexity: 20.1125\n",
      "Epoch [0/5], Step [50/377], Loss: 3.4989, Perplexity: 33.0779\n",
      "Epoch [0/5], Step [60/377], Loss: 2.7248, Perplexity: 15.2532\n",
      "Epoch [0/5], Step [70/377], Loss: 2.9636, Perplexity: 19.3676\n",
      "Epoch [0/5], Step [80/377], Loss: 2.1235, Perplexity: 8.3602\n",
      "Epoch [0/5], Step [90/377], Loss: 2.1456, Perplexity: 8.5469\n",
      "Epoch [0/5], Step [100/377], Loss: 2.5355, Perplexity: 12.6222\n",
      "Epoch [0/5], Step [110/377], Loss: 2.7783, Perplexity: 16.0911\n",
      "Epoch [0/5], Step [120/377], Loss: 2.2242, Perplexity: 9.2464\n",
      "Epoch [0/5], Step [130/377], Loss: 2.3269, Perplexity: 10.2457\n",
      "Epoch [0/5], Step [140/377], Loss: 2.2843, Perplexity: 9.8187\n",
      "Epoch [0/5], Step [150/377], Loss: 1.8547, Perplexity: 6.3896\n",
      "Epoch [0/5], Step [160/377], Loss: 2.5186, Perplexity: 12.4109\n",
      "Epoch [0/5], Step [170/377], Loss: 2.3350, Perplexity: 10.3293\n",
      "Epoch [0/5], Step [180/377], Loss: 1.5991, Perplexity: 4.9485\n",
      "Epoch [0/5], Step [190/377], Loss: 1.6127, Perplexity: 5.0165\n",
      "Epoch [0/5], Step [200/377], Loss: 2.1770, Perplexity: 8.8198\n",
      "Epoch [0/5], Step [210/377], Loss: 1.7508, Perplexity: 5.7594\n",
      "Epoch [0/5], Step [220/377], Loss: 2.0573, Perplexity: 7.8249\n",
      "Epoch [0/5], Step [230/377], Loss: 1.6215, Perplexity: 5.0609\n",
      "Epoch [0/5], Step [240/377], Loss: 2.0264, Perplexity: 7.5864\n",
      "Epoch [0/5], Step [250/377], Loss: 1.7722, Perplexity: 5.8836\n"
     ]
    },
    {
     "name": "stderr",
     "output_type": "stream",
     "text": [
      "Process Process-3:\n",
      "Process Process-4:\n",
      "Process Process-2:\n",
      "Process Process-1:\n",
      "Traceback (most recent call last):\n",
      "Traceback (most recent call last):\n",
      "Traceback (most recent call last):\n",
      "Traceback (most recent call last):\n",
      "  File \"/home/frati/miniconda3/envs/pytorch3.1/lib/python3.6/multiprocessing/process.py\", line 258, in _bootstrap\n",
      "    self.run()\n",
      "  File \"/home/frati/miniconda3/envs/pytorch3.1/lib/python3.6/multiprocessing/process.py\", line 258, in _bootstrap\n",
      "    self.run()\n",
      "  File \"/home/frati/miniconda3/envs/pytorch3.1/lib/python3.6/multiprocessing/process.py\", line 258, in _bootstrap\n",
      "    self.run()\n",
      "  File \"/home/frati/miniconda3/envs/pytorch3.1/lib/python3.6/multiprocessing/process.py\", line 258, in _bootstrap\n",
      "    self.run()\n",
      "  File \"/home/frati/miniconda3/envs/pytorch3.1/lib/python3.6/multiprocessing/process.py\", line 93, in run\n",
      "    self._target(*self._args, **self._kwargs)\n",
      "  File \"/home/frati/miniconda3/envs/pytorch3.1/lib/python3.6/multiprocessing/process.py\", line 93, in run\n",
      "    self._target(*self._args, **self._kwargs)\n",
      "  File \"/home/frati/miniconda3/envs/pytorch3.1/lib/python3.6/multiprocessing/process.py\", line 93, in run\n",
      "    self._target(*self._args, **self._kwargs)\n",
      "  File \"/home/frati/miniconda3/envs/pytorch3.1/lib/python3.6/multiprocessing/process.py\", line 93, in run\n",
      "    self._target(*self._args, **self._kwargs)\n",
      "  File \"/home/frati/miniconda3/envs/pytorch3.1/lib/python3.6/site-packages/torch/utils/data/dataloader.py\", line 50, in _worker_loop\n",
      "    r = index_queue.get()\n",
      "  File \"/home/frati/miniconda3/envs/pytorch3.1/lib/python3.6/site-packages/torch/utils/data/dataloader.py\", line 50, in _worker_loop\n",
      "    r = index_queue.get()\n",
      "  File \"/home/frati/miniconda3/envs/pytorch3.1/lib/python3.6/site-packages/torch/utils/data/dataloader.py\", line 50, in _worker_loop\n",
      "    r = index_queue.get()\n",
      "  File \"/home/frati/miniconda3/envs/pytorch3.1/lib/python3.6/site-packages/torch/utils/data/dataloader.py\", line 50, in _worker_loop\n",
      "    r = index_queue.get()\n",
      "  File \"/home/frati/miniconda3/envs/pytorch3.1/lib/python3.6/multiprocessing/queues.py\", line 334, in get\n",
      "    with self._rlock:\n",
      "  File \"/home/frati/miniconda3/envs/pytorch3.1/lib/python3.6/multiprocessing/queues.py\", line 334, in get\n",
      "    with self._rlock:\n",
      "  File \"/home/frati/miniconda3/envs/pytorch3.1/lib/python3.6/multiprocessing/queues.py\", line 334, in get\n",
      "    with self._rlock:\n",
      "  File \"/home/frati/miniconda3/envs/pytorch3.1/lib/python3.6/multiprocessing/queues.py\", line 335, in get\n",
      "    res = self._reader.recv_bytes()\n",
      "  File \"/home/frati/miniconda3/envs/pytorch3.1/lib/python3.6/multiprocessing/synchronize.py\", line 96, in __enter__\n",
      "    return self._semlock.__enter__()\n",
      "  File \"/home/frati/miniconda3/envs/pytorch3.1/lib/python3.6/multiprocessing/synchronize.py\", line 96, in __enter__\n",
      "    return self._semlock.__enter__()\n",
      "  File \"/home/frati/miniconda3/envs/pytorch3.1/lib/python3.6/multiprocessing/connection.py\", line 216, in recv_bytes\n",
      "    buf = self._recv_bytes(maxlength)\n",
      "  File \"/home/frati/miniconda3/envs/pytorch3.1/lib/python3.6/multiprocessing/synchronize.py\", line 96, in __enter__\n",
      "    return self._semlock.__enter__()\n",
      "KeyboardInterrupt\n",
      "KeyboardInterrupt\n",
      "  File \"/home/frati/miniconda3/envs/pytorch3.1/lib/python3.6/multiprocessing/connection.py\", line 407, in _recv_bytes\n",
      "    buf = self._recv(4)\n",
      "KeyboardInterrupt\n",
      "  File \"/home/frati/miniconda3/envs/pytorch3.1/lib/python3.6/multiprocessing/connection.py\", line 379, in _recv\n",
      "    chunk = read(handle, remaining)\n",
      "KeyboardInterrupt\n",
      "Exception ignored in: <bound method DataLoaderIter.__del__ of <torch.utils.data.dataloader.DataLoaderIter object at 0x7f8596747710>>\n",
      "Traceback (most recent call last):\n",
      "  File \"/home/frati/miniconda3/envs/pytorch3.1/lib/python3.6/site-packages/torch/utils/data/dataloader.py\", line 333, in __del__\n",
      "    self._shutdown_workers()\n",
      "  File \"/home/frati/miniconda3/envs/pytorch3.1/lib/python3.6/site-packages/torch/utils/data/dataloader.py\", line 319, in _shutdown_workers\n",
      "    self.data_queue.get()\n",
      "  File \"/home/frati/miniconda3/envs/pytorch3.1/lib/python3.6/multiprocessing/queues.py\", line 337, in get\n",
      "    return _ForkingPickler.loads(res)\n",
      "  File \"/home/frati/miniconda3/envs/pytorch3.1/lib/python3.6/site-packages/torch/multiprocessing/reductions.py\", line 70, in rebuild_storage_fd\n",
      "    fd = df.detach()\n",
      "  File \"/home/frati/miniconda3/envs/pytorch3.1/lib/python3.6/multiprocessing/resource_sharer.py\", line 57, in detach\n",
      "    with _resource_sharer.get_connection(self._id) as conn:\n",
      "  File \"/home/frati/miniconda3/envs/pytorch3.1/lib/python3.6/multiprocessing/resource_sharer.py\", line 87, in get_connection\n",
      "    c = Client(address, authkey=process.current_process().authkey)\n",
      "  File \"/home/frati/miniconda3/envs/pytorch3.1/lib/python3.6/multiprocessing/connection.py\", line 487, in Client\n",
      "    c = SocketClient(address)\n",
      "  File \"/home/frati/miniconda3/envs/pytorch3.1/lib/python3.6/multiprocessing/connection.py\", line 614, in SocketClient\n",
      "    s.connect(address)\n",
      "FileNotFoundError: [Errno 2] No such file or directory\n"
     ]
    },
    {
     "ename": "RuntimeError",
     "evalue": "DataLoader worker (pid 137042) exited unexpectedly with exit code 1.",
     "output_type": "error",
     "traceback": [
      "\u001b[0;31m---------------------------------------------------------------------------\u001b[0m",
      "\u001b[0;31mKeyboardInterrupt\u001b[0m                         Traceback (most recent call last)",
      "\u001b[0;32m~/miniconda3/envs/pytorch3.1/lib/python3.6/site-packages/torch/backends/cudnn/rnn.py\u001b[0m in \u001b[0;36mforward\u001b[0;34m(fn, input, hx, weight, output, hy)\u001b[0m\n\u001b[1;32m    227\u001b[0m         \u001b[0;31m# init descriptors\u001b[0m\u001b[0;34m\u001b[0m\u001b[0;34m\u001b[0m\u001b[0m\n\u001b[0;32m--> 228\u001b[0;31m         \u001b[0mfn\u001b[0m\u001b[0;34m.\u001b[0m\u001b[0mrnn_desc\u001b[0m \u001b[0;34m=\u001b[0m \u001b[0minit_rnn_descriptor\u001b[0m\u001b[0;34m(\u001b[0m\u001b[0mfn\u001b[0m\u001b[0;34m,\u001b[0m \u001b[0mhandle\u001b[0m\u001b[0;34m)\u001b[0m\u001b[0;34m\u001b[0m\u001b[0m\n\u001b[0m\u001b[1;32m    229\u001b[0m         \u001b[0;32mif\u001b[0m \u001b[0mis_input_packed\u001b[0m\u001b[0;34m:\u001b[0m\u001b[0;34m\u001b[0m\u001b[0m\n",
      "\u001b[0;32m~/miniconda3/envs/pytorch3.1/lib/python3.6/site-packages/torch/backends/cudnn/rnn.py\u001b[0m in \u001b[0;36minit_rnn_descriptor\u001b[0;34m(fn, handle)\u001b[0m\n\u001b[1;32m     53\u001b[0m         \u001b[0mfn\u001b[0m\u001b[0;34m.\u001b[0m\u001b[0mmode\u001b[0m\u001b[0;34m,\u001b[0m\u001b[0;34m\u001b[0m\u001b[0m\n\u001b[0;32m---> 54\u001b[0;31m         \u001b[0mfn\u001b[0m\u001b[0;34m.\u001b[0m\u001b[0mdatatype\u001b[0m\u001b[0;34m\u001b[0m\u001b[0m\n\u001b[0m\u001b[1;32m     55\u001b[0m     )\n",
      "\u001b[0;32m~/miniconda3/envs/pytorch3.1/lib/python3.6/site-packages/torch/backends/cudnn/__init__.py\u001b[0m in \u001b[0;36m__init__\u001b[0;34m(self, handle, hidden_size, num_layers, dropout_desc, input_mode, bidirectional, mode, datatype)\u001b[0m\n\u001b[1;32m    260\u001b[0m             if version() >= 7000 and int(cuda[0]) >= 9 and (\n\u001b[0;32m--> 261\u001b[0;31m                     torch.cuda.get_device_capability(torch.cuda.current_device())[0] >= 7):\n\u001b[0m\u001b[1;32m    262\u001b[0m                 \u001b[0mlib\u001b[0m\u001b[0;34m.\u001b[0m\u001b[0mcudnnSetRNNMatrixMathType\u001b[0m\u001b[0;34m(\u001b[0m\u001b[0mself\u001b[0m\u001b[0;34m,\u001b[0m \u001b[0mCUDNN_DEFAULT_MATH\u001b[0m\u001b[0;34m)\u001b[0m\u001b[0;34m\u001b[0m\u001b[0m\n",
      "\u001b[0;32m~/miniconda3/envs/pytorch3.1/lib/python3.6/site-packages/torch/cuda/__init__.py\u001b[0m in \u001b[0;36mget_device_capability\u001b[0;34m(device)\u001b[0m\n\u001b[1;32m    267\u001b[0m     \u001b[0;32mif\u001b[0m \u001b[0mdevice\u001b[0m \u001b[0;34m>=\u001b[0m \u001b[0;36m0\u001b[0m\u001b[0;34m:\u001b[0m\u001b[0;34m\u001b[0m\u001b[0m\n\u001b[0;32m--> 268\u001b[0;31m         \u001b[0;32mreturn\u001b[0m \u001b[0mtorch\u001b[0m\u001b[0;34m.\u001b[0m\u001b[0m_C\u001b[0m\u001b[0;34m.\u001b[0m\u001b[0m_cuda_getDeviceCapability\u001b[0m\u001b[0;34m(\u001b[0m\u001b[0mdevice\u001b[0m\u001b[0;34m)\u001b[0m\u001b[0;34m\u001b[0m\u001b[0m\n\u001b[0m\u001b[1;32m    269\u001b[0m \u001b[0;34m\u001b[0m\u001b[0m\n",
      "\u001b[0;31mKeyboardInterrupt\u001b[0m: ",
      "\nDuring handling of the above exception, another exception occurred:\n",
      "\u001b[0;31mRuntimeError\u001b[0m                              Traceback (most recent call last)",
      "\u001b[0;32m<ipython-input-24-05e4e90b7d23>\u001b[0m in \u001b[0;36m<module>\u001b[0;34m()\u001b[0m\n\u001b[1;32m     23\u001b[0m         \u001b[0mencoder\u001b[0m\u001b[0;34m.\u001b[0m\u001b[0mzero_grad\u001b[0m\u001b[0;34m(\u001b[0m\u001b[0;34m)\u001b[0m\u001b[0;34m\u001b[0m\u001b[0m\n\u001b[1;32m     24\u001b[0m         \u001b[0mfeatures\u001b[0m \u001b[0;34m=\u001b[0m \u001b[0mencoder\u001b[0m\u001b[0;34m(\u001b[0m\u001b[0mimages\u001b[0m\u001b[0;34m)\u001b[0m\u001b[0;34m\u001b[0m\u001b[0m\n\u001b[0;32m---> 25\u001b[0;31m         \u001b[0moutputs\u001b[0m \u001b[0;34m=\u001b[0m \u001b[0mdecoder\u001b[0m\u001b[0;34m(\u001b[0m\u001b[0mfeatures\u001b[0m\u001b[0;34m,\u001b[0m \u001b[0mcaptions\u001b[0m\u001b[0;34m,\u001b[0m \u001b[0mlengths\u001b[0m\u001b[0;34m)\u001b[0m\u001b[0;34m\u001b[0m\u001b[0m\n\u001b[0m\u001b[1;32m     26\u001b[0m         \u001b[0mloss\u001b[0m \u001b[0;34m=\u001b[0m \u001b[0mcriterion\u001b[0m\u001b[0;34m(\u001b[0m\u001b[0moutputs\u001b[0m\u001b[0;34m,\u001b[0m \u001b[0mtargets\u001b[0m\u001b[0;34m)\u001b[0m\u001b[0;34m\u001b[0m\u001b[0m\n\u001b[1;32m     27\u001b[0m         \u001b[0mloss\u001b[0m\u001b[0;34m.\u001b[0m\u001b[0mbackward\u001b[0m\u001b[0;34m(\u001b[0m\u001b[0;34m)\u001b[0m\u001b[0;34m\u001b[0m\u001b[0m\n",
      "\u001b[0;32m~/miniconda3/envs/pytorch3.1/lib/python3.6/site-packages/torch/nn/modules/module.py\u001b[0m in \u001b[0;36m__call__\u001b[0;34m(self, *input, **kwargs)\u001b[0m\n\u001b[1;32m    355\u001b[0m             \u001b[0mresult\u001b[0m \u001b[0;34m=\u001b[0m \u001b[0mself\u001b[0m\u001b[0;34m.\u001b[0m\u001b[0m_slow_forward\u001b[0m\u001b[0;34m(\u001b[0m\u001b[0;34m*\u001b[0m\u001b[0minput\u001b[0m\u001b[0;34m,\u001b[0m \u001b[0;34m**\u001b[0m\u001b[0mkwargs\u001b[0m\u001b[0;34m)\u001b[0m\u001b[0;34m\u001b[0m\u001b[0m\n\u001b[1;32m    356\u001b[0m         \u001b[0;32melse\u001b[0m\u001b[0;34m:\u001b[0m\u001b[0;34m\u001b[0m\u001b[0m\n\u001b[0;32m--> 357\u001b[0;31m             \u001b[0mresult\u001b[0m \u001b[0;34m=\u001b[0m \u001b[0mself\u001b[0m\u001b[0;34m.\u001b[0m\u001b[0mforward\u001b[0m\u001b[0;34m(\u001b[0m\u001b[0;34m*\u001b[0m\u001b[0minput\u001b[0m\u001b[0;34m,\u001b[0m \u001b[0;34m**\u001b[0m\u001b[0mkwargs\u001b[0m\u001b[0;34m)\u001b[0m\u001b[0;34m\u001b[0m\u001b[0m\n\u001b[0m\u001b[1;32m    358\u001b[0m         \u001b[0;32mfor\u001b[0m \u001b[0mhook\u001b[0m \u001b[0;32min\u001b[0m \u001b[0mself\u001b[0m\u001b[0;34m.\u001b[0m\u001b[0m_forward_hooks\u001b[0m\u001b[0;34m.\u001b[0m\u001b[0mvalues\u001b[0m\u001b[0;34m(\u001b[0m\u001b[0;34m)\u001b[0m\u001b[0;34m:\u001b[0m\u001b[0;34m\u001b[0m\u001b[0m\n\u001b[1;32m    359\u001b[0m             \u001b[0mhook_result\u001b[0m \u001b[0;34m=\u001b[0m \u001b[0mhook\u001b[0m\u001b[0;34m(\u001b[0m\u001b[0mself\u001b[0m\u001b[0;34m,\u001b[0m \u001b[0minput\u001b[0m\u001b[0;34m,\u001b[0m \u001b[0mresult\u001b[0m\u001b[0;34m)\u001b[0m\u001b[0;34m\u001b[0m\u001b[0m\n",
      "\u001b[0;32m<ipython-input-20-3cf9ca1c36c2>\u001b[0m in \u001b[0;36mforward\u001b[0;34m(self, features, tags, lengths)\u001b[0m\n\u001b[1;32m     19\u001b[0m         \u001b[0membeddings\u001b[0m \u001b[0;34m=\u001b[0m \u001b[0mtorch\u001b[0m\u001b[0;34m.\u001b[0m\u001b[0mcat\u001b[0m\u001b[0;34m(\u001b[0m\u001b[0;34m(\u001b[0m\u001b[0mfeatures\u001b[0m\u001b[0;34m.\u001b[0m\u001b[0munsqueeze\u001b[0m\u001b[0;34m(\u001b[0m\u001b[0;36m1\u001b[0m\u001b[0;34m)\u001b[0m\u001b[0;34m,\u001b[0m \u001b[0membeddings\u001b[0m\u001b[0;34m)\u001b[0m\u001b[0;34m,\u001b[0m \u001b[0;36m1\u001b[0m\u001b[0;34m)\u001b[0m\u001b[0;34m\u001b[0m\u001b[0m\n\u001b[1;32m     20\u001b[0m         \u001b[0mpacked\u001b[0m \u001b[0;34m=\u001b[0m \u001b[0mpack_padded_sequence\u001b[0m\u001b[0;34m(\u001b[0m\u001b[0membeddings\u001b[0m\u001b[0;34m,\u001b[0m \u001b[0mlengths\u001b[0m\u001b[0;34m,\u001b[0m \u001b[0mbatch_first\u001b[0m\u001b[0;34m=\u001b[0m\u001b[0;32mTrue\u001b[0m\u001b[0;34m)\u001b[0m\u001b[0;34m\u001b[0m\u001b[0m\n\u001b[0;32m---> 21\u001b[0;31m         \u001b[0mhiddens\u001b[0m\u001b[0;34m,\u001b[0m \u001b[0m_\u001b[0m \u001b[0;34m=\u001b[0m \u001b[0mself\u001b[0m\u001b[0;34m.\u001b[0m\u001b[0mlstm\u001b[0m\u001b[0;34m(\u001b[0m\u001b[0mpacked\u001b[0m\u001b[0;34m)\u001b[0m\u001b[0;34m\u001b[0m\u001b[0m\n\u001b[0m\u001b[1;32m     22\u001b[0m         \u001b[0moutputs\u001b[0m \u001b[0;34m=\u001b[0m \u001b[0mself\u001b[0m\u001b[0;34m.\u001b[0m\u001b[0mlinear\u001b[0m\u001b[0;34m(\u001b[0m\u001b[0mhiddens\u001b[0m\u001b[0;34m[\u001b[0m\u001b[0;36m0\u001b[0m\u001b[0;34m]\u001b[0m\u001b[0;34m)\u001b[0m\u001b[0;34m\u001b[0m\u001b[0m\n\u001b[1;32m     23\u001b[0m         \u001b[0;32mreturn\u001b[0m \u001b[0moutputs\u001b[0m\u001b[0;34m\u001b[0m\u001b[0m\n",
      "\u001b[0;32m~/miniconda3/envs/pytorch3.1/lib/python3.6/site-packages/torch/nn/modules/module.py\u001b[0m in \u001b[0;36m__call__\u001b[0;34m(self, *input, **kwargs)\u001b[0m\n\u001b[1;32m    355\u001b[0m             \u001b[0mresult\u001b[0m \u001b[0;34m=\u001b[0m \u001b[0mself\u001b[0m\u001b[0;34m.\u001b[0m\u001b[0m_slow_forward\u001b[0m\u001b[0;34m(\u001b[0m\u001b[0;34m*\u001b[0m\u001b[0minput\u001b[0m\u001b[0;34m,\u001b[0m \u001b[0;34m**\u001b[0m\u001b[0mkwargs\u001b[0m\u001b[0;34m)\u001b[0m\u001b[0;34m\u001b[0m\u001b[0m\n\u001b[1;32m    356\u001b[0m         \u001b[0;32melse\u001b[0m\u001b[0;34m:\u001b[0m\u001b[0;34m\u001b[0m\u001b[0m\n\u001b[0;32m--> 357\u001b[0;31m             \u001b[0mresult\u001b[0m \u001b[0;34m=\u001b[0m \u001b[0mself\u001b[0m\u001b[0;34m.\u001b[0m\u001b[0mforward\u001b[0m\u001b[0;34m(\u001b[0m\u001b[0;34m*\u001b[0m\u001b[0minput\u001b[0m\u001b[0;34m,\u001b[0m \u001b[0;34m**\u001b[0m\u001b[0mkwargs\u001b[0m\u001b[0;34m)\u001b[0m\u001b[0;34m\u001b[0m\u001b[0m\n\u001b[0m\u001b[1;32m    358\u001b[0m         \u001b[0;32mfor\u001b[0m \u001b[0mhook\u001b[0m \u001b[0;32min\u001b[0m \u001b[0mself\u001b[0m\u001b[0;34m.\u001b[0m\u001b[0m_forward_hooks\u001b[0m\u001b[0;34m.\u001b[0m\u001b[0mvalues\u001b[0m\u001b[0;34m(\u001b[0m\u001b[0;34m)\u001b[0m\u001b[0;34m:\u001b[0m\u001b[0;34m\u001b[0m\u001b[0m\n\u001b[1;32m    359\u001b[0m             \u001b[0mhook_result\u001b[0m \u001b[0;34m=\u001b[0m \u001b[0mhook\u001b[0m\u001b[0;34m(\u001b[0m\u001b[0mself\u001b[0m\u001b[0;34m,\u001b[0m \u001b[0minput\u001b[0m\u001b[0;34m,\u001b[0m \u001b[0mresult\u001b[0m\u001b[0;34m)\u001b[0m\u001b[0;34m\u001b[0m\u001b[0m\n",
      "\u001b[0;32m~/miniconda3/envs/pytorch3.1/lib/python3.6/site-packages/torch/nn/modules/rnn.py\u001b[0m in \u001b[0;36mforward\u001b[0;34m(self, input, hx)\u001b[0m\n\u001b[1;32m    202\u001b[0m             \u001b[0mflat_weight\u001b[0m\u001b[0;34m=\u001b[0m\u001b[0mflat_weight\u001b[0m\u001b[0;34m\u001b[0m\u001b[0m\n\u001b[1;32m    203\u001b[0m         )\n\u001b[0;32m--> 204\u001b[0;31m         \u001b[0moutput\u001b[0m\u001b[0;34m,\u001b[0m \u001b[0mhidden\u001b[0m \u001b[0;34m=\u001b[0m \u001b[0mfunc\u001b[0m\u001b[0;34m(\u001b[0m\u001b[0minput\u001b[0m\u001b[0;34m,\u001b[0m \u001b[0mself\u001b[0m\u001b[0;34m.\u001b[0m\u001b[0mall_weights\u001b[0m\u001b[0;34m,\u001b[0m \u001b[0mhx\u001b[0m\u001b[0;34m)\u001b[0m\u001b[0;34m\u001b[0m\u001b[0m\n\u001b[0m\u001b[1;32m    205\u001b[0m         \u001b[0;32mif\u001b[0m \u001b[0mis_packed\u001b[0m\u001b[0;34m:\u001b[0m\u001b[0;34m\u001b[0m\u001b[0m\n\u001b[1;32m    206\u001b[0m             \u001b[0moutput\u001b[0m \u001b[0;34m=\u001b[0m \u001b[0mPackedSequence\u001b[0m\u001b[0;34m(\u001b[0m\u001b[0moutput\u001b[0m\u001b[0;34m,\u001b[0m \u001b[0mbatch_sizes\u001b[0m\u001b[0;34m)\u001b[0m\u001b[0;34m\u001b[0m\u001b[0m\n",
      "\u001b[0;32m~/miniconda3/envs/pytorch3.1/lib/python3.6/site-packages/torch/nn/_functions/rnn.py\u001b[0m in \u001b[0;36mforward\u001b[0;34m(input, *fargs, **fkwargs)\u001b[0m\n\u001b[1;32m    383\u001b[0m             \u001b[0;32mreturn\u001b[0m \u001b[0mhack_onnx_rnn\u001b[0m\u001b[0;34m(\u001b[0m\u001b[0;34m(\u001b[0m\u001b[0minput\u001b[0m\u001b[0;34m,\u001b[0m\u001b[0;34m)\u001b[0m \u001b[0;34m+\u001b[0m \u001b[0mfargs\u001b[0m\u001b[0;34m,\u001b[0m \u001b[0moutput\u001b[0m\u001b[0;34m,\u001b[0m \u001b[0margs\u001b[0m\u001b[0;34m,\u001b[0m \u001b[0mkwargs\u001b[0m\u001b[0;34m)\u001b[0m\u001b[0;34m\u001b[0m\u001b[0m\n\u001b[1;32m    384\u001b[0m         \u001b[0;32melse\u001b[0m\u001b[0;34m:\u001b[0m\u001b[0;34m\u001b[0m\u001b[0m\n\u001b[0;32m--> 385\u001b[0;31m             \u001b[0;32mreturn\u001b[0m \u001b[0mfunc\u001b[0m\u001b[0;34m(\u001b[0m\u001b[0minput\u001b[0m\u001b[0;34m,\u001b[0m \u001b[0;34m*\u001b[0m\u001b[0mfargs\u001b[0m\u001b[0;34m,\u001b[0m \u001b[0;34m**\u001b[0m\u001b[0mfkwargs\u001b[0m\u001b[0;34m)\u001b[0m\u001b[0;34m\u001b[0m\u001b[0m\n\u001b[0m\u001b[1;32m    386\u001b[0m \u001b[0;34m\u001b[0m\u001b[0m\n\u001b[1;32m    387\u001b[0m     \u001b[0;32mreturn\u001b[0m \u001b[0mforward\u001b[0m\u001b[0;34m\u001b[0m\u001b[0m\n",
      "\u001b[0;32m~/miniconda3/envs/pytorch3.1/lib/python3.6/site-packages/torch/autograd/function.py\u001b[0m in \u001b[0;36m_do_forward\u001b[0;34m(self, *input)\u001b[0m\n\u001b[1;32m    326\u001b[0m         \u001b[0mself\u001b[0m\u001b[0;34m.\u001b[0m\u001b[0m_nested_input\u001b[0m \u001b[0;34m=\u001b[0m \u001b[0minput\u001b[0m\u001b[0;34m\u001b[0m\u001b[0m\n\u001b[1;32m    327\u001b[0m         \u001b[0mflat_input\u001b[0m \u001b[0;34m=\u001b[0m \u001b[0mtuple\u001b[0m\u001b[0;34m(\u001b[0m\u001b[0m_iter_variables\u001b[0m\u001b[0;34m(\u001b[0m\u001b[0minput\u001b[0m\u001b[0;34m)\u001b[0m\u001b[0;34m)\u001b[0m\u001b[0;34m\u001b[0m\u001b[0m\n\u001b[0;32m--> 328\u001b[0;31m         \u001b[0mflat_output\u001b[0m \u001b[0;34m=\u001b[0m \u001b[0msuper\u001b[0m\u001b[0;34m(\u001b[0m\u001b[0mNestedIOFunction\u001b[0m\u001b[0;34m,\u001b[0m \u001b[0mself\u001b[0m\u001b[0;34m)\u001b[0m\u001b[0;34m.\u001b[0m\u001b[0m_do_forward\u001b[0m\u001b[0;34m(\u001b[0m\u001b[0;34m*\u001b[0m\u001b[0mflat_input\u001b[0m\u001b[0;34m)\u001b[0m\u001b[0;34m\u001b[0m\u001b[0m\n\u001b[0m\u001b[1;32m    329\u001b[0m         \u001b[0mnested_output\u001b[0m \u001b[0;34m=\u001b[0m \u001b[0mself\u001b[0m\u001b[0;34m.\u001b[0m\u001b[0m_nested_output\u001b[0m\u001b[0;34m\u001b[0m\u001b[0m\n\u001b[1;32m    330\u001b[0m         \u001b[0mnested_variables\u001b[0m \u001b[0;34m=\u001b[0m \u001b[0m_unflatten\u001b[0m\u001b[0;34m(\u001b[0m\u001b[0mflat_output\u001b[0m\u001b[0;34m,\u001b[0m \u001b[0mself\u001b[0m\u001b[0;34m.\u001b[0m\u001b[0m_nested_output\u001b[0m\u001b[0;34m)\u001b[0m\u001b[0;34m\u001b[0m\u001b[0m\n",
      "\u001b[0;32m~/miniconda3/envs/pytorch3.1/lib/python3.6/site-packages/torch/autograd/function.py\u001b[0m in \u001b[0;36mforward\u001b[0;34m(self, *args)\u001b[0m\n\u001b[1;32m    348\u001b[0m     \u001b[0;32mdef\u001b[0m \u001b[0mforward\u001b[0m\u001b[0;34m(\u001b[0m\u001b[0mself\u001b[0m\u001b[0;34m,\u001b[0m \u001b[0;34m*\u001b[0m\u001b[0margs\u001b[0m\u001b[0;34m)\u001b[0m\u001b[0;34m:\u001b[0m\u001b[0;34m\u001b[0m\u001b[0m\n\u001b[1;32m    349\u001b[0m         \u001b[0mnested_tensors\u001b[0m \u001b[0;34m=\u001b[0m \u001b[0m_map_variable_tensor\u001b[0m\u001b[0;34m(\u001b[0m\u001b[0mself\u001b[0m\u001b[0;34m.\u001b[0m\u001b[0m_nested_input\u001b[0m\u001b[0;34m)\u001b[0m\u001b[0;34m\u001b[0m\u001b[0m\n\u001b[0;32m--> 350\u001b[0;31m         \u001b[0mresult\u001b[0m \u001b[0;34m=\u001b[0m \u001b[0mself\u001b[0m\u001b[0;34m.\u001b[0m\u001b[0mforward_extended\u001b[0m\u001b[0;34m(\u001b[0m\u001b[0;34m*\u001b[0m\u001b[0mnested_tensors\u001b[0m\u001b[0;34m)\u001b[0m\u001b[0;34m\u001b[0m\u001b[0m\n\u001b[0m\u001b[1;32m    351\u001b[0m         \u001b[0;32mdel\u001b[0m \u001b[0mself\u001b[0m\u001b[0;34m.\u001b[0m\u001b[0m_nested_input\u001b[0m\u001b[0;34m\u001b[0m\u001b[0m\n\u001b[1;32m    352\u001b[0m         \u001b[0mself\u001b[0m\u001b[0;34m.\u001b[0m\u001b[0m_nested_output\u001b[0m \u001b[0;34m=\u001b[0m \u001b[0mresult\u001b[0m\u001b[0;34m\u001b[0m\u001b[0m\n",
      "\u001b[0;32m~/miniconda3/envs/pytorch3.1/lib/python3.6/site-packages/torch/nn/_functions/rnn.py\u001b[0m in \u001b[0;36mforward_extended\u001b[0;34m(self, input, weight, hx)\u001b[0m\n\u001b[1;32m    292\u001b[0m             \u001b[0mhy\u001b[0m \u001b[0;34m=\u001b[0m \u001b[0mtuple\u001b[0m\u001b[0;34m(\u001b[0m\u001b[0mh\u001b[0m\u001b[0;34m.\u001b[0m\u001b[0mnew\u001b[0m\u001b[0;34m(\u001b[0m\u001b[0;34m)\u001b[0m \u001b[0;32mfor\u001b[0m \u001b[0mh\u001b[0m \u001b[0;32min\u001b[0m \u001b[0mhx\u001b[0m\u001b[0;34m)\u001b[0m\u001b[0;34m\u001b[0m\u001b[0m\n\u001b[1;32m    293\u001b[0m \u001b[0;34m\u001b[0m\u001b[0m\n\u001b[0;32m--> 294\u001b[0;31m         \u001b[0mcudnn\u001b[0m\u001b[0;34m.\u001b[0m\u001b[0mrnn\u001b[0m\u001b[0;34m.\u001b[0m\u001b[0mforward\u001b[0m\u001b[0;34m(\u001b[0m\u001b[0mself\u001b[0m\u001b[0;34m,\u001b[0m \u001b[0minput\u001b[0m\u001b[0;34m,\u001b[0m \u001b[0mhx\u001b[0m\u001b[0;34m,\u001b[0m \u001b[0mweight\u001b[0m\u001b[0;34m,\u001b[0m \u001b[0moutput\u001b[0m\u001b[0;34m,\u001b[0m \u001b[0mhy\u001b[0m\u001b[0;34m)\u001b[0m\u001b[0;34m\u001b[0m\u001b[0m\n\u001b[0m\u001b[1;32m    295\u001b[0m \u001b[0;34m\u001b[0m\u001b[0m\n\u001b[1;32m    296\u001b[0m         \u001b[0mself\u001b[0m\u001b[0;34m.\u001b[0m\u001b[0msave_for_backward\u001b[0m\u001b[0;34m(\u001b[0m\u001b[0minput\u001b[0m\u001b[0;34m,\u001b[0m \u001b[0mhx\u001b[0m\u001b[0;34m,\u001b[0m \u001b[0mweight\u001b[0m\u001b[0;34m,\u001b[0m \u001b[0moutput\u001b[0m\u001b[0;34m)\u001b[0m\u001b[0;34m\u001b[0m\u001b[0m\n",
      "\u001b[0;32m~/miniconda3/envs/pytorch3.1/lib/python3.6/site-packages/torch/backends/cudnn/rnn.py\u001b[0m in \u001b[0;36mforward\u001b[0;34m(fn, input, hx, weight, output, hy)\u001b[0m\n\u001b[1;32m    226\u001b[0m \u001b[0;34m\u001b[0m\u001b[0m\n\u001b[1;32m    227\u001b[0m         \u001b[0;31m# init descriptors\u001b[0m\u001b[0;34m\u001b[0m\u001b[0;34m\u001b[0m\u001b[0m\n\u001b[0;32m--> 228\u001b[0;31m         \u001b[0mfn\u001b[0m\u001b[0;34m.\u001b[0m\u001b[0mrnn_desc\u001b[0m \u001b[0;34m=\u001b[0m \u001b[0minit_rnn_descriptor\u001b[0m\u001b[0;34m(\u001b[0m\u001b[0mfn\u001b[0m\u001b[0;34m,\u001b[0m \u001b[0mhandle\u001b[0m\u001b[0;34m)\u001b[0m\u001b[0;34m\u001b[0m\u001b[0m\n\u001b[0m\u001b[1;32m    229\u001b[0m         \u001b[0;32mif\u001b[0m \u001b[0mis_input_packed\u001b[0m\u001b[0;34m:\u001b[0m\u001b[0;34m\u001b[0m\u001b[0m\n\u001b[1;32m    230\u001b[0m             \u001b[0mfn\u001b[0m\u001b[0;34m.\u001b[0m\u001b[0mx_descs\u001b[0m \u001b[0;34m=\u001b[0m \u001b[0mcudnn\u001b[0m\u001b[0;34m.\u001b[0m\u001b[0mdescriptor_sequence\u001b[0m\u001b[0;34m(\u001b[0m\u001b[0mx\u001b[0m\u001b[0;34m,\u001b[0m \u001b[0mfn\u001b[0m\u001b[0;34m.\u001b[0m\u001b[0mbatch_sizes\u001b[0m\u001b[0;34m)\u001b[0m\u001b[0;34m\u001b[0m\u001b[0m\n",
      "\u001b[0;32m~/miniconda3/envs/pytorch3.1/lib/python3.6/site-packages/torch/utils/data/dataloader.py\u001b[0m in \u001b[0;36mhandler\u001b[0;34m(signum, frame)\u001b[0m\n\u001b[1;32m    173\u001b[0m         \u001b[0;31m# This following call uses `waitid` with WNOHANG from C side. Therefore,\u001b[0m\u001b[0;34m\u001b[0m\u001b[0;34m\u001b[0m\u001b[0m\n\u001b[1;32m    174\u001b[0m         \u001b[0;31m# Python can still get and update the process status successfully.\u001b[0m\u001b[0;34m\u001b[0m\u001b[0;34m\u001b[0m\u001b[0m\n\u001b[0;32m--> 175\u001b[0;31m         \u001b[0m_error_if_any_worker_fails\u001b[0m\u001b[0;34m(\u001b[0m\u001b[0;34m)\u001b[0m\u001b[0;34m\u001b[0m\u001b[0m\n\u001b[0m\u001b[1;32m    176\u001b[0m         \u001b[0;32mif\u001b[0m \u001b[0mprevious_handler\u001b[0m \u001b[0;32mis\u001b[0m \u001b[0;32mnot\u001b[0m \u001b[0;32mNone\u001b[0m\u001b[0;34m:\u001b[0m\u001b[0;34m\u001b[0m\u001b[0m\n\u001b[1;32m    177\u001b[0m             \u001b[0mprevious_handler\u001b[0m\u001b[0;34m(\u001b[0m\u001b[0msignum\u001b[0m\u001b[0;34m,\u001b[0m \u001b[0mframe\u001b[0m\u001b[0;34m)\u001b[0m\u001b[0;34m\u001b[0m\u001b[0m\n",
      "\u001b[0;31mRuntimeError\u001b[0m: DataLoader worker (pid 137042) exited unexpectedly with exit code 1."
     ]
    }
   ],
   "source": [
    "data_loader = dataloaders['train']\n",
    "\n",
    "total_step = len(data_loader)\n",
    "best_valid = 0\n",
    "best_enc = encoder.state_dict()\n",
    "best_dec = decoder.state_dict()\n",
    "\n",
    "for epoch in range(args.num_epochs):\n",
    "    encoder.train()\n",
    "    decoder.train()\n",
    "    for i, (images, captions, lengths, objs) in enumerate(dataloaders['train']):\n",
    "\n",
    "        # Set mini-batch dataset\n",
    "        images = varify(images, volatile=True)\n",
    "        ###\n",
    "        images = [view[:,1,...].unsqueeze(1) for view in images]\n",
    "        ###\n",
    "        captions = varify(captions)\n",
    "        targets = pack_padded_sequence(captions, lengths, batch_first=True)[0]\n",
    "\n",
    "        # Forward, Backward and Optimize\n",
    "        decoder.zero_grad()\n",
    "        encoder.zero_grad()\n",
    "        features = encoder(images)\n",
    "        outputs = decoder(features, captions, lengths)\n",
    "        loss = criterion(outputs, targets)\n",
    "        loss.backward()\n",
    "        optimizer.step()\n",
    "\n",
    "        # Print log info\n",
    "        if i % args.log_step == 0:\n",
    "            print('Epoch [%d/%d], Step [%d/%d], Loss: %.4f, Perplexity: %5.4f'\n",
    "                  %(epoch, args.num_epochs, i, total_step, \n",
    "                    loss.data[0], np.exp(loss.data[0])))\n",
    "    \n",
    "    encoder.eval()\n",
    "    decoder.eval()\n",
    "    correct = 0\n",
    "    num_tags = 0\n",
    "    for i, (images, captions, lengths, objs) in enumerate(dataloaders['valid']):\n",
    "        # Set mini-batch dataset\n",
    "        images = varify(images, volatile=True)\n",
    "        ###\n",
    "        images = [view[:,1,...].unsqueeze(1) for view in images]\n",
    "        ###\n",
    "        captions = varify(captions,volatile=True)\n",
    "        targets = pack_padded_sequence(captions, lengths, batch_first=True)[0]\n",
    "\n",
    "        features = encoder(images)\n",
    "        outputs = decoder(features, captions, lengths)\n",
    "        loss = criterion(outputs, targets)\n",
    "        _,preds = torch.max(outputs,1)\n",
    "        correct += int(torch.sum(preds == targets))\n",
    "        num_tags += float(sum(lengths))\n",
    "        \n",
    "    valid_acc = correct/num_tags\n",
    "    if valid_acc > best_valid:\n",
    "        best_valid = valid_acc\n",
    "        best_enc = encoder.state_dict()\n",
    "        best_dec = decoder.state_dict()\n",
    "    print('Validation Accuracy {:.3f}'.format(valid_acc))\n",
    "print(\"Best validation acc: {:.2f}\".format(valid_acc))\n",
    "encoder.load_state_dict(best_enc)\n",
    "decoder.load_state_dict(best_dec)"
   ]
  },
  {
   "cell_type": "code",
   "execution_count": null,
   "metadata": {},
   "outputs": [],
   "source": []
  },
  {
   "cell_type": "code",
   "execution_count": 77,
   "metadata": {},
   "outputs": [],
   "source": [
    "#torch.save(encoder.state_dict(),\"my_encoder.pkl\")\n",
    "#torch.save(decoder.state_dict(),\"my_decoder.pkl\")"
   ]
  },
  {
   "cell_type": "code",
   "execution_count": null,
   "metadata": {},
   "outputs": [],
   "source": []
  },
  {
   "cell_type": "code",
   "execution_count": 78,
   "metadata": {},
   "outputs": [],
   "source": [
    "class Beam():\n",
    "    \n",
    "    def __init__(self, decoder, embed, translate, beam_size, vocabulary, penalty):\n",
    "        self.decoder = decoder\n",
    "        self.embed = embed\n",
    "        self.translate = translate\n",
    "        self.beam_size = beam_size\n",
    "        self.vocab = vocab\n",
    "        self.penalty = penalty\n",
    "        self.finished_beams = []\n",
    "        self.logsoftmax = torch.nn.LogSoftmax()\n",
    "        self.beam_started = False\n",
    "        self.states = None\n",
    "        \n",
    "    def start_beams(self,seed):\n",
    "        self.finished_beams = []\n",
    "        seed = seed.unsqueeze(0).unsqueeze(0) # beam deals with one view at a time\n",
    "        outputs, state = self.decoder(seed, None)\n",
    "        decoded = self.translate(outputs.squeeze(1))\n",
    "        probs, preds = self.logsoftmax(decoded).topk(self.beam_size) # populate beam with the first characters\n",
    "        self.beam = [Candidate(probs[0,i],[preds[0,i]],preds[0,i],state,self.penalty) for i in range((probs.shape)[1])]\n",
    "    \n",
    "    def sample_beams(self):\n",
    "        safety = True\n",
    "        safety_counter = 0\n",
    "        safety_limit = 100\n",
    "        while (len(self.finished_beams) < self.beam_size and safety):\n",
    "            candidates_prob = []\n",
    "            new_states = []\n",
    "            for candidate in self.beam:\n",
    "                pred, state = candidate\n",
    "                # embed\n",
    "                emb = self.embed(pred) # embedding is [100]\n",
    "                emb = emb.view(1,1,-1) # turn embedding into batch,seq,values : 1,1,100\n",
    "                # compute\n",
    "                new_output, new_state = self.decoder(emb,state)\n",
    "                new_states.append(new_state)\n",
    "                # decode\n",
    "                new_output.view(1,-1) # remove fake batch\n",
    "                new_decoded = self.translate(new_output).view(1,-1)\n",
    "                # score\n",
    "                word_probs = self.logsoftmax(new_decoded)\n",
    "\n",
    "                #word_probs += candidate.prob\n",
    "                normalized_probs = candidate.normalize_probs(word_probs)\n",
    "\n",
    "                candidates_prob.append(normalized_probs)\n",
    "\n",
    "            flat_candidates = torch.cat(candidates_prob).view(-1)\n",
    "            \n",
    "            top_scores, top_words = flat_candidates.topk(self.beam_size)\n",
    "            new_words = top_words % len(vocab)\n",
    "            beams_id = top_words.cpu().data.numpy() // len(vocab)\n",
    "            \n",
    "            expanded_beam = []\n",
    "\n",
    "            for beam_id, new_word, score in zip(beams_id, new_words, top_scores):\n",
    "                new_candidate = self.beam[beam_id].update(score, new_word, new_states[beam_id])\n",
    "                if vocab.is_stop(new_word.cpu().data.numpy()):\n",
    "                    self.finished_beams.append(new_candidate)\n",
    "                else:\n",
    "                    expanded_beam.append(new_candidate)    \n",
    "            \n",
    "            self.beam = expanded_beam\n",
    "            #print(\"Beam: \",len(self.beam))\n",
    "            #print(\"Finished: \",len(self.finished_beams))\n",
    "            safety_counter += 1\n",
    "            safety = safety_counter < safety_limit\n",
    "    \n",
    "    def get_best(self):\n",
    "        if(len(self.finished_beams) <= 0):\n",
    "            raise RuntimeError('Beams have not been expanded')\n",
    "            \n",
    "        self.finished_beams = sorted(self.finished_beams,reverse=True, key=lambda x: x.prob)\n",
    "        return (torch.stack(self.finished_beams[0].seq),self.finished_beams[0].prob)\n",
    "        \n",
    "    def __iter__(self):\n",
    "        return iter(self.beam)\n",
    "    \n",
    "    def __str__(self):\n",
    "        return ''.join([ el.__str__() + \"\\n\" for el in self.finished_beams])"
   ]
  },
  {
   "cell_type": "code",
   "execution_count": 79,
   "metadata": {},
   "outputs": [],
   "source": [
    "class Candidate():\n",
    "    def __init__(self, prob, sequence, last_word, state, penalty):\n",
    "        self.state = state\n",
    "        self.prob = float(prob)\n",
    "        self.last_word = last_word\n",
    "        self.seq = sequence\n",
    "        self.penalty = penalty\n",
    "    \n",
    "    def update(self, prob, new_word, state):\n",
    "        return Candidate(prob, self.seq + [new_word], new_word, state, self.penalty)\n",
    "        \n",
    "    def normalize_probs(self,new_probs):\n",
    "        return (new_probs + self.prob*(len(self.seq)**self.penalty)/((len(self.seq) + 1)**self.penalty))\n",
    "    \n",
    "    def __iter__(self):\n",
    "        return iter((self.last_word, self.state))\n",
    "        \n",
    "    def __str__(self):\n",
    "        return \"Seq: {} Prob: {:.2f}\".format([int(el) for el in self.seq],self.prob)\n",
    "    \n",
    "    def __len__(self):\n",
    "        return len(self.seq)"
   ]
  },
  {
   "cell_type": "code",
   "execution_count": 80,
   "metadata": {},
   "outputs": [],
   "source": [
    "#beam = Beam(decoder.lstm, decoder.embed, decoder.linear, 5, vocab, 0.7)"
   ]
  },
  {
   "cell_type": "code",
   "execution_count": 81,
   "metadata": {},
   "outputs": [],
   "source": [
    "#beam.start_beams(features[0])"
   ]
  },
  {
   "cell_type": "code",
   "execution_count": 82,
   "metadata": {},
   "outputs": [],
   "source": [
    "#for el in beam.beam:\n",
    "#    print(el)"
   ]
  },
  {
   "cell_type": "code",
   "execution_count": 83,
   "metadata": {},
   "outputs": [],
   "source": [
    "#beam.sample_beams()"
   ]
  },
  {
   "cell_type": "code",
   "execution_count": 84,
   "metadata": {},
   "outputs": [],
   "source": [
    "#for el in beam.finished_beams:\n",
    "#    print(el)"
   ]
  },
  {
   "cell_type": "code",
   "execution_count": null,
   "metadata": {},
   "outputs": [],
   "source": []
  },
  {
   "cell_type": "code",
   "execution_count": null,
   "metadata": {},
   "outputs": [],
   "source": []
  },
  {
   "cell_type": "code",
   "execution_count": null,
   "metadata": {},
   "outputs": [],
   "source": []
  },
  {
   "cell_type": "code",
   "execution_count": null,
   "metadata": {},
   "outputs": [],
   "source": []
  },
  {
   "cell_type": "code",
   "execution_count": 85,
   "metadata": {},
   "outputs": [
    {
     "name": "stdout",
     "output_type": "stream",
     "text": [
      "25\n"
     ]
    }
   ],
   "source": [
    "import pandas\n",
    "\n",
    "ix_to_obj = list(pandas.read_pickle('/home/frati/Grasping/Squared/index.pkl.compress', compression='gzip'))\n",
    "\n",
    "obj_to_ix = {}\n",
    "for idx, el in enumerate(ix_to_obj):\n",
    "    obj_to_ix[el] = idx\n",
    "\n",
    "flat_obj = ['key','button','cd','credit_card','game_card','comb']\n",
    "tall_obj = ['glasses','matchbox','chestnut','toy','salt_shaker','tape']\n",
    "big_obj = ['book','bowl','plate','coffee_mug']\n",
    "long_obj = ['cigarette','marker','screw_driver', 'shashlik']\n",
    "small_obj = [ 'french_chalk',  'match', 'rubber_band', 'screw', 'shell']\n",
    "\n",
    "all_objs = flat_obj+tall_obj+big_obj+long_obj+small_obj\n",
    "print(len(all_objs))\n",
    "\n",
    "obj_categories = {'flat' : flat_obj,\n",
    "                  'tall' : tall_obj,\n",
    "                  'big'  : big_obj,\n",
    "                  'long' : long_obj,\n",
    "                  'small': small_obj}\n",
    "\n",
    "obj_to_cat = {}\n",
    "for cat, objs in obj_categories.items():\n",
    "    for obj in objs:\n",
    "        obj_to_cat[obj] = cat"
   ]
  },
  {
   "cell_type": "code",
   "execution_count": 86,
   "metadata": {},
   "outputs": [],
   "source": [
    "views, tags, lengths, objs = next(iter(dataloaders['test']))"
   ]
  },
  {
   "cell_type": "code",
   "execution_count": 87,
   "metadata": {},
   "outputs": [
    {
     "data": {
      "text/plain": [
       "torch.Size([8, 1, 224, 224])"
      ]
     },
     "execution_count": 87,
     "metadata": {},
     "output_type": "execute_result"
    }
   ],
   "source": [
    "[view[:,1,...].unsqueeze(1) for view in views][0].shape"
   ]
  },
  {
   "cell_type": "code",
   "execution_count": 88,
   "metadata": {},
   "outputs": [
    {
     "data": {
      "text/plain": [
       "torch.Size([8, 3, 224, 224])"
      ]
     },
     "execution_count": 88,
     "metadata": {},
     "output_type": "execute_result"
    }
   ],
   "source": [
    "views[0].shape"
   ]
  },
  {
   "cell_type": "code",
   "execution_count": 89,
   "metadata": {},
   "outputs": [
    {
     "name": "stdout",
     "output_type": "stream",
     "text": [
      "plate\n",
      "plate\n",
      "key\n",
      "credit_card\n",
      "salt_shaker\n",
      "button\n",
      "matchbox\n",
      "salt_shaker\n"
     ]
    }
   ],
   "source": [
    "for el in objs:\n",
    "    print(ix_to_obj[el])"
   ]
  },
  {
   "cell_type": "code",
   "execution_count": 90,
   "metadata": {},
   "outputs": [
    {
     "data": {
      "image/png": "[encoded data removed]",
      "text/plain": [
       "<PIL.Image.Image image mode=RGB size=224x224 at 0x7FF40190E780>"
      ]
     },
     "execution_count": 90,
     "metadata": {},
     "output_type": "execute_result"
    }
   ],
   "source": [
    "display.plot_tensor(views[0][1])"
   ]
  },
  {
   "cell_type": "code",
   "execution_count": 91,
   "metadata": {},
   "outputs": [],
   "source": [
    "def score_seqs(pred,targ):\n",
    "    disance = levenshtein(pred,targ)\n",
    "    return 1 - ((disance)/len(pred))\n",
    "\n",
    "def levenshtein(a,b):\n",
    "    \"Calculates the Levenshtein distance between a and b.\"\n",
    "    a = a.cpu().data.numpy()\n",
    "    b = b.cpu().numpy()\n",
    "    n, m = len(a), len(b)\n",
    "    if n > m:\n",
    "        # Make sure n <= m, to use O(min(n,m)) space\n",
    "        a,b = b,a\n",
    "        n,m = m,n\n",
    "        \n",
    "    current = range(n+1)\n",
    "    for i in range(1,m+1):\n",
    "        previous, current = current, [i]+[0]*n\n",
    "        for j in range(1,n+1):\n",
    "            add, delete = previous[j]+1, current[j-1]+1\n",
    "            change = previous[j-1]\n",
    "            if a[j-1] != b[i-1]:\n",
    "                change = change + 1\n",
    "            current[j] = min(add, delete, change)\n",
    "            \n",
    "    return current[n]"
   ]
  },
  {
   "cell_type": "code",
   "execution_count": null,
   "metadata": {},
   "outputs": [],
   "source": []
  },
  {
   "cell_type": "code",
   "execution_count": 93,
   "metadata": {},
   "outputs": [
    {
     "name": "stdout",
     "output_type": "stream",
     "text": [
      "0\n",
      "1\n",
      "2\n",
      "3\n",
      "4\n",
      "5\n",
      "6\n",
      "7\n",
      "8\n",
      "9\n",
      "10\n",
      "11\n",
      "12\n",
      "13\n",
      "14\n",
      "15\n",
      "16\n",
      "17\n",
      "18\n",
      "19\n",
      "20\n",
      "21\n",
      "22\n",
      "23\n",
      "24\n",
      "25\n",
      "26\n",
      "27\n",
      "28\n",
      "29\n",
      "30\n",
      "31\n",
      "32\n",
      "33\n",
      "34\n",
      "35\n",
      "36\n",
      "37\n",
      "38\n",
      "39\n",
      "40\n",
      "41\n",
      "42\n",
      "43\n",
      "44\n",
      "45\n",
      "46\n",
      "47\n",
      "48\n",
      "49\n",
      "50\n",
      "51\n",
      "52\n",
      "53\n",
      "54\n",
      "55\n",
      "56\n",
      "57\n",
      "58\n",
      "59\n",
      "60\n",
      "61\n",
      "62\n",
      "63\n",
      "64\n",
      "65\n",
      "66\n",
      "67\n",
      "68\n",
      "69\n",
      "70\n",
      "71\n",
      "72\n",
      "73\n",
      "74\n",
      "75\n",
      "76\n",
      "77\n",
      "78\n",
      "79\n",
      "80\n"
     ]
    }
   ],
   "source": [
    "metrics = {\"acc\":{}, \"greedy\":{}, \"beam\":{}}\n",
    "for key in metrics: \n",
    "    results = {}\n",
    "    for i in range(25):\n",
    "        results[i] =  []\n",
    "    metrics[key] = results\n",
    "    \n",
    "encoder.eval()\n",
    "decoder.eval()\n",
    "beam = Beam(decoder.lstm, decoder.embed, decoder.linear, 5, vocab, 0.7)\n",
    "for i, (images, captions, lengths, objs) in enumerate(dataloaders['test']):\n",
    "    # Set mini-batch dataset\n",
    "    images = varify(images, volatile=True)\n",
    "    ###\n",
    "    images = [view[:,1,...].unsqueeze(1) for view in images]\n",
    "    ###\n",
    "    features = encoder(images)\n",
    "    print(i)\n",
    "    \n",
    "    #batch\n",
    "    for i in range(features.shape[0]):\n",
    "        target = captions[i]\n",
    "        tot = lengths[i]\n",
    "        \n",
    "        sample_id = decoder.sample(features[i].unsqueeze(0)).cpu().data.numpy()\n",
    "        corr = 0\n",
    "        for j in range(tot):\n",
    "            if sample_id[j] == target[j]:\n",
    "                corr += 1\n",
    "        t_acc = corr/tot\n",
    "        \n",
    "        #print(\"Target: \", target.cpu().numpy()[:tot])\n",
    "        #print(\"Fixed sample:\" , sample_id[:tot])\n",
    "        #print(\"Acc: \", t_acc)\n",
    "        metrics['acc'][objs[i]].append(t_acc)\n",
    "        \n",
    "        \n",
    "        g = decoder.my_sample(features[i].unsqueeze(0))\n",
    "        g_distance = score_seqs(g,target[:tot])\n",
    "        metrics['greedy'][objs[i]].append(g_distance)\n",
    "        #print(\"Greedy sample:\",g.data.cpu().numpy())\n",
    "        #print(\"Greedy: \",g_distance)\n",
    "        \n",
    "        beam.start_beams(features[i])\n",
    "        beam.sample_beams()\n",
    "        b,_ = beam.get_best()\n",
    "        b_distance = score_seqs(b,target[:tot])\n",
    "        metrics['beam'][objs[i]].append(b_distance)\n",
    "        #print(\"Beam sample:\",b.data.cpu().numpy().T[0])\n",
    "        #print(\"Beam: \",b_distance)\n",
    "        #print()\n",
    "        "
   ]
  },
  {
   "cell_type": "code",
   "execution_count": null,
   "metadata": {},
   "outputs": [],
   "source": []
  },
  {
   "cell_type": "code",
   "execution_count": 94,
   "metadata": {},
   "outputs": [
    {
     "name": "stdout",
     "output_type": "stream",
     "text": [
      "acc     0.36\n",
      "greedy  0.50\n",
      "beam    0.49\n"
     ]
    }
   ],
   "source": [
    "for key in metrics:\n",
    "    results = metrics[key]\n",
    "    all_res = []\n",
    "    for item,val in results.items():\n",
    "        all_res += val\n",
    "    print(\"{:7} {:.2f}\".format(key,np.array(all_res).mean()))"
   ]
  },
  {
   "cell_type": "code",
   "execution_count": 42,
   "metadata": {},
   "outputs": [
    {
     "data": {
      "text/plain": [
       "16"
      ]
     },
     "execution_count": 42,
     "metadata": {},
     "output_type": "execute_result"
    }
   ],
   "source": [
    "obj_to_ix['key']"
   ]
  },
  {
   "cell_type": "code",
   "execution_count": null,
   "metadata": {},
   "outputs": [],
   "source": []
  },
  {
   "cell_type": "code",
   "execution_count": 43,
   "metadata": {},
   "outputs": [
    {
     "name": "stdout",
     "output_type": "stream",
     "text": [
      "flat   & 0.20 \\\\\n",
      "big    & 0.28 \\\\\n",
      "long   & 0.35 \\\\\n",
      "small  & 0.36 \\\\\n",
      "tall   & 0.44 \\\\\n",
      "-------------\n",
      "flat   & 0.15 & cd           \\\\\n",
      "flat   & 0.16 & key          \\\\\n",
      "flat   & 0.17 & button       \\\\\n",
      "flat   & 0.21 & game_card    \\\\\n",
      "long   & 0.24 & cigarette    \\\\\n",
      "flat   & 0.25 & credit_card  \\\\\n",
      "big    & 0.25 & coffee_mug   \\\\\n",
      "big    & 0.26 & plate        \\\\\n",
      "flat   & 0.27 & comb         \\\\\n",
      "big    & 0.29 & book         \\\\\n",
      "long   & 0.33 & marker       \\\\\n",
      "big    & 0.33 & bowl         \\\\\n",
      "small  & 0.33 & match        \\\\\n",
      "small  & 0.34 & shell        \\\\\n",
      "small  & 0.35 & screw        \\\\\n",
      "long   & 0.36 & screw_driver \\\\\n",
      "small  & 0.37 & french_chalk \\\\\n",
      "tall   & 0.37 & toy          \\\\\n",
      "small  & 0.40 & rubber_band  \\\\\n",
      "tall   & 0.43 & chestnut     \\\\\n",
      "tall   & 0.44 & matchbox     \\\\\n",
      "tall   & 0.45 & tape         \\\\\n",
      "tall   & 0.46 & glasses      \\\\\n",
      "long   & 0.48 & shashlik     \\\\\n",
      "tall   & 0.48 & salt_shaker  \\\\\n",
      "-------------\n",
      "acc    & 0.33\n",
      "#############\n",
      "\n",
      "big    & 0.34 \\\\\n",
      "flat   & 0.45 \\\\\n",
      "tall   & 0.48 \\\\\n",
      "long   & 0.51 \\\\\n",
      "small  & 0.56 \\\\\n",
      "-------------\n",
      "big    & 0.31 & coffee_mug   \\\\\n",
      "big    & 0.33 & bowl         \\\\\n",
      "long   & 0.34 & cigarette    \\\\\n",
      "big    & 0.36 & book         \\\\\n",
      "flat   & 0.37 & button       \\\\\n",
      "big    & 0.37 & plate        \\\\\n",
      "flat   & 0.40 & key          \\\\\n",
      "tall   & 0.42 & toy          \\\\\n",
      "flat   & 0.45 & comb         \\\\\n",
      "small  & 0.45 & shell        \\\\\n",
      "tall   & 0.48 & matchbox     \\\\\n",
      "tall   & 0.48 & glasses      \\\\\n",
      "flat   & 0.48 & cd           \\\\\n",
      "tall   & 0.48 & chestnut     \\\\\n",
      "flat   & 0.49 & credit_card  \\\\\n",
      "tall   & 0.49 & tape         \\\\\n",
      "flat   & 0.49 & game_card    \\\\\n",
      "tall   & 0.50 & salt_shaker  \\\\\n",
      "long   & 0.52 & marker       \\\\\n",
      "long   & 0.55 & screw_driver \\\\\n",
      "small  & 0.57 & screw        \\\\\n",
      "small  & 0.58 & french_chalk \\\\\n",
      "small  & 0.60 & match        \\\\\n",
      "long   & 0.60 & shashlik     \\\\\n",
      "small  & 0.61 & rubber_band  \\\\\n",
      "-------------\n",
      "greedy & 0.47\n",
      "#############\n",
      "\n",
      "flat   & 0.43 \\\\\n",
      "tall   & 0.44 \\\\\n",
      "big    & 0.45 \\\\\n",
      "long   & 0.54 \\\\\n",
      "small  & 0.59 \\\\\n",
      "-------------\n",
      "flat   & 0.34 & button       \\\\\n",
      "flat   & 0.36 & key          \\\\\n",
      "flat   & 0.39 & comb         \\\\\n",
      "tall   & 0.40 & tape         \\\\\n",
      "long   & 0.41 & cigarette    \\\\\n",
      "big    & 0.42 & coffee_mug   \\\\\n",
      "tall   & 0.43 & glasses      \\\\\n",
      "tall   & 0.44 & toy          \\\\\n",
      "tall   & 0.45 & chestnut     \\\\\n",
      "big    & 0.46 & bowl         \\\\\n",
      "tall   & 0.46 & salt_shaker  \\\\\n",
      "big    & 0.46 & plate        \\\\\n",
      "tall   & 0.46 & matchbox     \\\\\n",
      "big    & 0.47 & book         \\\\\n",
      "flat   & 0.48 & credit_card  \\\\\n",
      "flat   & 0.50 & game_card    \\\\\n",
      "flat   & 0.50 & cd           \\\\\n",
      "small  & 0.54 & shell        \\\\\n",
      "small  & 0.57 & screw        \\\\\n",
      "long   & 0.58 & marker       \\\\\n",
      "long   & 0.58 & screw_driver \\\\\n",
      "long   & 0.59 & shashlik     \\\\\n",
      "small  & 0.60 & match        \\\\\n",
      "small  & 0.62 & french_chalk \\\\\n",
      "small  & 0.62 & rubber_band  \\\\\n",
      "-------------\n",
      "beam   & 0.48\n",
      "#############\n",
      "\n"
     ]
    }
   ],
   "source": [
    "for key in metrics:\n",
    "    results = metrics[key]\n",
    "    all_res = []\n",
    "    cats = []\n",
    "    for cat, objs in obj_categories.items():\n",
    "        cat_acc = []\n",
    "        for obj in objs:\n",
    "            cat_acc += results[obj_to_ix[obj]]\n",
    "        cats.append((np.array(cat_acc).mean(),cat))\n",
    "        cats = sorted(cats)\n",
    "    for acc,cat in cats:\n",
    "        print(\"{:6} & {:.2f} \\\\\\\\\".format(cat,acc))\n",
    "        \n",
    "    print(\"-------------\")\n",
    "    items = []\n",
    "    for item,val in results.items():\n",
    "        items.append((np.array(val).mean(),ix_to_obj[item]))\n",
    "        all_res += val\n",
    "        \n",
    "    items = sorted(items)\n",
    "    for acc, item in items:\n",
    "        print(\"{:6} & {:.2f} & {:12} \\\\\\\\\".format(obj_to_cat[item],acc,item))\n",
    "        \n",
    "    print(\"-------------\")\n",
    "    \n",
    "    print(\"{:6} & {:.2f}\".format(key,np.array(all_res).mean()))\n",
    "    \n",
    "    print(\"#############\")\n",
    "    print()"
   ]
  },
  {
   "cell_type": "code",
   "execution_count": null,
   "metadata": {},
   "outputs": [],
   "source": []
  },
  {
   "cell_type": "code",
   "execution_count": null,
   "metadata": {},
   "outputs": [],
   "source": []
  },
  {
   "cell_type": "code",
   "execution_count": 21,
   "metadata": {},
   "outputs": [],
   "source": [
    "def plain_levenshtein(a,b):\n",
    "    \"Calculates the Levenshtein distance between a and b.\"\n",
    "    n, m = len(a), len(b)\n",
    "    if n > m:\n",
    "        # Make sure n <= m, to use O(min(n,m)) space\n",
    "        a,b = b,a\n",
    "        n,m = m,n\n",
    "        \n",
    "    current = range(n+1)\n",
    "    for i in range(1,m+1):\n",
    "        previous, current = current, [i]+[0]*n\n",
    "        for j in range(1,n+1):\n",
    "            add, delete = previous[j]+1, current[j-1]+1\n",
    "            change = previous[j-1]\n",
    "            if a[j-1] != b[i-1]:\n",
    "                change = change + 1\n",
    "            current[j] = min(add, delete, change)\n",
    "            \n",
    "    return current[n]\n",
    "\n",
    "def score_markov(pred,targ):\n",
    "    distance = plain_levenshtein(pred,targ)\n",
    "    return 1 - ((distance + 1)/len(pred))"
   ]
  },
  {
   "cell_type": "code",
   "execution_count": 22,
   "metadata": {},
   "outputs": [],
   "source": [
    "def get_category(dataloader,category):\n",
    "    seqs = []\n",
    "    objs_in_category = obj_categories[category]\n",
    "    #print(objs_in_category)\n",
    "    for i, (images, captions, lengths, objs) in enumerate(dataloader):\n",
    "        print(\"\\r{}/{}\".format(i,len(dataloader)),end=\"\")\n",
    "        for caption, length, obj in zip(captions,lengths, objs):\n",
    "            if ix_to_obj[obj] in objs_in_category:\n",
    "                seqs.append(caption[:length].cpu().numpy())\n",
    "    return seqs"
   ]
  },
  {
   "cell_type": "code",
   "execution_count": null,
   "metadata": {},
   "outputs": [],
   "source": []
  },
  {
   "cell_type": "code",
   "execution_count": 11,
   "metadata": {},
   "outputs": [
    {
     "name": "stdout",
     "output_type": "stream",
     "text": [
      "['key', 'button', 'cd', 'credit_card', 'game_card', 'comb']\n",
      "80/81"
     ]
    }
   ],
   "source": [
    "#a = get_category(dataloaders['test'],'flat')"
   ]
  },
  {
   "cell_type": "code",
   "execution_count": 23,
   "metadata": {},
   "outputs": [],
   "source": [
    "def vectorize(tag,vocab):\n",
    "    state = np.zeros(len(vocab))\n",
    "    state[tag] += 1\n",
    "    return state\n",
    "\n",
    "def sample(distr,vocab):\n",
    "    return np.random.choice(len(vocab),p=distr)"
   ]
  },
  {
   "cell_type": "code",
   "execution_count": 24,
   "metadata": {},
   "outputs": [],
   "source": [
    "from sklearn.preprocessing import normalize\n",
    "\n",
    "def test_category(category,training_loader, test_loader):\n",
    "    markov = np.zeros((len(vocab),len(vocab)))\n",
    "    starts = np.zeros((len(vocab)))\n",
    "    print(\"Computing Markov for {}\".format(category))\n",
    "    training_samples = get_category(training_loader,category)\n",
    "    for seq in training_samples:\n",
    "        #seq = generate_label(category)\n",
    "        #seq.append(vocab.stop)\n",
    "        starts[seq[0]] += 1\n",
    "        for i,j in zip(seq,seq[1:]):\n",
    "            markov[i][j] += 1\n",
    "    print()\n",
    "    print(\"Normalizing Markov for {}\".format(category))\n",
    "    starts /= starts.sum()\n",
    "    markov = normalize(markov,axis=1,norm='l1')\n",
    "\n",
    "    test_trials = get_category(test_loader,category)\n",
    "    acc = []\n",
    "    print()\n",
    "    print(\"Testing Markov for {}\".format(category))\n",
    "    lev = []\n",
    "    for target_seq in test_trials:\n",
    "        generated_sequence = []\n",
    "        curr_tag = sample(starts,vocab)\n",
    "        curr_state = vectorize(curr_tag,vocab)\n",
    "        correct = 0\n",
    "        tot = len(target_seq)\n",
    "        generated_sequence.append(curr_tag)\n",
    "        for tag in target_seq:\n",
    "            if(curr_tag == tag):\n",
    "                correct += 1\n",
    "            curr_state = curr_state.dot(markov)\n",
    "            curr_state /= curr_state.sum()\n",
    "            curr_tag = sample(curr_state,vocab)\n",
    "            generated_sequence.append(curr_tag)\n",
    "        acc.append(correct/tot)\n",
    "        \n",
    "        lev.append(score_markov(generated_sequence,target_seq))\n",
    "    \n",
    "    tag_acc = np.array(acc).mean()\n",
    "    lev_acc = np.array(lev).mean()\n",
    "    print(\"Test {}: Acc {:.2f} - Lev {:.2f}\".format(category, tag_acc, lev_acc))\n",
    "    print(\"-------------------------------\")"
   ]
  },
  {
   "cell_type": "code",
   "execution_count": 25,
   "metadata": {},
   "outputs": [
    {
     "name": "stdout",
     "output_type": "stream",
     "text": [
      "Computing Markov for flat\n",
      "376/377\n",
      "Normalizing Markov for flat\n",
      "80/81\n",
      "Testing Markov for flat\n",
      "Test flat: Acc 0.21 - Lev 0.17\n",
      "-------------------------------\n",
      "Computing Markov for tall\n",
      "376/377\n",
      "Normalizing Markov for tall\n",
      "80/81\n",
      "Testing Markov for tall\n",
      "Test tall: Acc 0.25 - Lev 0.18\n",
      "-------------------------------\n",
      "Computing Markov for big\n",
      "376/377\n",
      "Normalizing Markov for big\n",
      "80/81\n",
      "Testing Markov for big\n",
      "Test big: Acc 0.18 - Lev 0.16\n",
      "-------------------------------\n",
      "Computing Markov for long\n",
      "376/377\n",
      "Normalizing Markov for long\n",
      "80/81\n",
      "Testing Markov for long\n",
      "Test long: Acc 0.30 - Lev 0.26\n",
      "-------------------------------\n",
      "Computing Markov for small\n",
      "376/377\n",
      "Normalizing Markov for small\n",
      "80/81\n",
      "Testing Markov for small\n",
      "Test small: Acc 0.28 - Lev 0.29\n",
      "-------------------------------\n"
     ]
    }
   ],
   "source": [
    "for cat in obj_categories:\n",
    "    test_category(cat,dataloaders['train'], dataloaders['test'])"
   ]
  },
  {
   "cell_type": "code",
   "execution_count": 26,
   "metadata": {},
   "outputs": [
    {
     "data": {
      "text/plain": [
       "0.21200000000000002"
      ]
     },
     "execution_count": 26,
     "metadata": {},
     "output_type": "execute_result"
    }
   ],
   "source": [
    "(0.17 + 0.18 + 0.16 + 0.26 + 0.29)/5"
   ]
  },
  {
   "cell_type": "code",
   "execution_count": 95,
   "metadata": {},
   "outputs": [
    {
     "data": {
      "text/plain": [
       "0.504"
      ]
     },
     "execution_count": 95,
     "metadata": {},
     "output_type": "execute_result"
    }
   ],
   "source": [
    "(0.46 + 0.48 + 0.43 + 0.57 + 0.58)/5"
   ]
  },
  {
   "cell_type": "code",
   "execution_count": 98,
   "metadata": {},
   "outputs": [
    {
     "data": {
      "text/plain": [
       "0.484"
      ]
     },
     "execution_count": 98,
     "metadata": {},
     "output_type": "execute_result"
    }
   ],
   "source": [
    "(0.45 + 0.48 + 0.39 + 0.56 + 0.54)/5"
   ]
  }
 ],
 "metadata": {
  "kernelspec": {
   "display_name": "Python 3",
   "language": "python",
   "name": "python3"
  },
  "language_info": {
   "codemirror_mode": {
    "name": "ipython",
    "version": 3
   },
   "file_extension": ".py",
   "mimetype": "text/x-python",
   "name": "python",
   "nbconvert_exporter": "python",
   "pygments_lexer": "ipython3",
   "version": "3.6.3"
  }
 },
 "nbformat": 4,
 "nbformat_minor": 2
}
