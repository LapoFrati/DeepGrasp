{
 "cells": [
  {
   "cell_type": "code",
   "execution_count": 2,
   "metadata": {},
   "outputs": [],
   "source": [
    "import torch\n",
    "import math\n",
    "from torch import nn, autograd, stack, cat\n",
    "from torch.autograd import Variable\n",
    "import torch.nn.functional as F"
   ]
  },
  {
   "cell_type": "code",
   "execution_count": 4,
   "metadata": {},
   "outputs": [],
   "source": [
    "class Ensembler(nn.Module):\n",
    "    def __init__(self, out_features, features_extractor, in_features, views):\n",
    "        super(Ensembler, self).__init__()\n",
    "        self.features_extractor = features_extractor\n",
    "        self.ensemble = nn.MaxPool2d(kernel_size=(views,1))\n",
    "        self.linear = nn.Linear(in_features, 100)\n",
    "        self.relu = nn.ReLU()\n",
    "        self.final = nn.Linear(100,out_features)\n",
    "\n",
    "    def forward(self, views):\n",
    "        views_features = [self.features_extractor(view) for view in views]\n",
    "        batch,filter,h,w = views_features[0].shape\n",
    "        outs = [ self.relu(self.linear(el.view(batch,-1))) for el in views_features ]\n",
    "        outs = [ self.final(out) for out in outs]\n",
    "        stacked_outs = torch.stack(outs,dim=1)\n",
    "        out = self.ensemble(stacked_outs)\n",
    "        return out.squeeze()"
   ]
  },
  {
   "cell_type": "code",
   "execution_count": null,
   "metadata": {},
   "outputs": [],
   "source": []
  }
 ],
 "metadata": {
  "kernelspec": {
   "display_name": "Python [conda env:pysource]",
   "language": "python",
   "name": "conda-env-pysource-py"
  },
  "language_info": {
   "codemirror_mode": {
    "name": "ipython",
    "version": 3
   },
   "file_extension": ".py",
   "mimetype": "text/x-python",
   "name": "python",
   "nbconvert_exporter": "python",
   "pygments_lexer": "ipython3",
   "version": "3.5.4"
  }
 },
 "nbformat": 4,
 "nbformat_minor": 2
}
