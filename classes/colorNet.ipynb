{
 "cells": [
  {
   "cell_type": "code",
   "execution_count": 1,
   "metadata": {},
   "outputs": [],
   "source": [
    "import torch\n",
    "import math\n",
    "from torch import nn, autograd, stack, cat\n",
    "from torch.autograd import Variable\n",
    "import torch.nn.functional as F"
   ]
  },
  {
   "cell_type": "code",
   "execution_count": 7,
   "metadata": {},
   "outputs": [],
   "source": [
    "class ColorNet(nn.Module):\n",
    "    def __init__(self, hooks=False, pretrained=None):\n",
    "        super(ColorNet, self).__init__()\n",
    "        self.conv1 = nn.Conv2d(1, 10, 1)\n",
    "        self.conv2 = nn.Conv2d(10, 3, 1)\n",
    "        self.bn2 = nn.BatchNorm2d(3,affine=True)\n",
    "        self.bn1 = nn.BatchNorm2d(10,affine=True)\n",
    "\n",
    "        if pretrained is None:\n",
    "            self.init_weights()\n",
    "        else:\n",
    "            state = torch.load(pretrained, map_location=lambda storage, loc: storage)\n",
    "            self.load_state_dict(state['state_dict'])\n",
    "        \n",
    "        def printgradnorm(self, grad_input, grad_output):\n",
    "            print('Inside ' + self.__class__.__name__ + ' backward')\n",
    "            print('{} -> {}'.format(grad_input[0].size(),grad_output[0].size()))\n",
    "            print('grad_in norm: {}'.format(grad_input[0].data.norm()))\n",
    "            print('grad_out norm: {}'.format(grad_output[0].data.norm()))\n",
    "                  \n",
    "        if hooks:\n",
    "            self.conv1.register_backward_hook(printgradnorm)\n",
    "            self.conv2.register_backward_hook(printgradnorm)\n",
    "     \n",
    "    def forward(self, x):\n",
    "        \n",
    "        residual = torch.cat([x,x,x],dim=1)\n",
    "        \n",
    "        x = self.conv1(x)\n",
    "        x = self.bn1(x)\n",
    "        x = F.relu(x)\n",
    "        x = self.conv2(x)\n",
    "        x = self.bn2(x)\n",
    "        x += residual\n",
    "        x = F.sigmoid(x) \n",
    "        \n",
    "        return x\n",
    "    \n",
    "    def init_weights(self):\n",
    "        \"\"\"Initialize the weights.\"\"\"\n",
    "        self.conv1.weight.data.normal_(0, 0.02)\n",
    "        self.conv1.bias.data.fill_(0)\n",
    "        self.conv2.weight.data.normal_(0, 0.02)\n",
    "        self.conv2.bias.data.fill_(0)"
   ]
  },
  {
   "cell_type": "code",
   "execution_count": 8,
   "metadata": {},
   "outputs": [],
   "source": [
    "#c = ColorNet()\n",
    "#c = ColorNet(pretrained='/home/frati/Grasping/models/colorer_model/model_best_acc52.pth.tar')"
   ]
  },
  {
   "cell_type": "code",
   "execution_count": 2,
   "metadata": {},
   "outputs": [],
   "source": [
    "fake_batch = Variable(torch.rand(4,3,224,224))"
   ]
  },
  {
   "cell_type": "code",
   "execution_count": null,
   "metadata": {},
   "outputs": [],
   "source": []
  },
  {
   "cell_type": "code",
   "execution_count": null,
   "metadata": {},
   "outputs": [],
   "source": [
    "a = torch.ones((2,2,3,3))"
   ]
  },
  {
   "cell_type": "code",
   "execution_count": null,
   "metadata": {},
   "outputs": [],
   "source": [
    "b = torch.ones((2,2,3,3))*2"
   ]
  },
  {
   "cell_type": "code",
   "execution_count": 11,
   "metadata": {},
   "outputs": [
    {
     "data": {
      "text/plain": [
       "torch.Size([2, 4, 3, 3])"
      ]
     },
     "execution_count": 11,
     "metadata": {},
     "output_type": "execute_result"
    }
   ],
   "source": [
    "torch.cat([a,b],dim=1).shape"
   ]
  },
  {
   "cell_type": "code",
   "execution_count": null,
   "metadata": {},
   "outputs": [],
   "source": []
  }
 ],
 "metadata": {
  "kernelspec": {
   "display_name": "Python [conda env:pysource]",
   "language": "python",
   "name": "conda-env-pysource-py"
  },
  "language_info": {
   "codemirror_mode": {
    "name": "ipython",
    "version": 3
   },
   "file_extension": ".py",
   "mimetype": "text/x-python",
   "name": "python",
   "nbconvert_exporter": "python",
   "pygments_lexer": "ipython3",
   "version": "3.5.4"
  }
 },
 "nbformat": 4,
 "nbformat_minor": 2
}
