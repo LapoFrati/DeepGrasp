{
 "cells": [
  {
   "cell_type": "code",
   "execution_count": 1,
   "metadata": {},
   "outputs": [],
   "source": [
    "import torch\n",
    "import math\n",
    "from torch import nn, autograd, stack, cat\n",
    "from torch.autograd import Variable\n",
    "import torch.utils.model_zoo as model_zoo\n",
    "import torch.nn.functional as F"
   ]
  },
  {
   "cell_type": "code",
   "execution_count": null,
   "metadata": {},
   "outputs": [],
   "source": [
    "class ViewPooler(nn.Module):\n",
    "    def __init__(self, in_features, out_features, features_extractor, hidden, views):\n",
    "        super(ViewPooler, self).__init__()\n",
    "        self.features_extractor = features_extractor\n",
    "        self.view_pooling = nn.MaxPool2d(kernel_size=(views,1))\n",
    "        self.relu = nn.ReLU()\n",
    "        self.fc_1 = nn.Linear(in_features, hidden)\n",
    "        self.fc_2 = nn.Linear(hidden,out_features)\n",
    "        self.dropout = nn.Dropout(p=0.3)\n",
    "        self.bn = nn.BatchNorm1d(in_features, momentum=0.01)\n",
    "        self.intermediate = intermediate\n",
    "\n",
    "    def forward(self, views):\n",
    "        views_features = [self.features_extractor(view) for view in views]\n",
    "        \n",
    "        ims,filters,h,w = views_features[0].shape\n",
    "        \n",
    "        flat_views = [view.view(ims,-1) for view in views_features]\n",
    "        stacked_views = torch.stack(flat_views,dim=1)\n",
    "        pooled_views = self.view_pooling(stacked_views).squeeze()\n",
    "        \n",
    "        features = self.bn(pooled_views)\n",
    "        features = self.fc_1(features)\n",
    "        features = self.relu(features)\n",
    "        features = self.dropout(features)\n",
    "        features = self.fc_2(features)\n",
    "        \n",
    "        return features"
   ]
  },
  {
   "cell_type": "code",
   "execution_count": 5,
   "metadata": {},
   "outputs": [],
   "source": [
    "class Old_ViewPooler(nn.Module):\n",
    "    def __init__(self, in_features, out_features, features_extractor, views):\n",
    "        super(Old_ViewPooler, self).__init__()\n",
    "        #self.in_features = in_features\n",
    "        self.features_extractor = features_extractor\n",
    "        self.view_pooling = nn.MaxPool2d(kernel_size=(views,1))\n",
    "        self.relu = nn.ReLU()\n",
    "        self.fc_1 = nn.Linear(in_features, 100)\n",
    "        self.fc_2 = nn.Linear(100,out_features)\n",
    "        self.dropout = nn.Dropout(p=0.2)\n",
    "        self.bn = nn.BatchNorm1d(in_features, momentum=0.01)\n",
    "\n",
    "    def forward(self, views):\n",
    "        views_features = [self.features_extractor(view) for view in views]\n",
    "        \n",
    "        ims,filters,h,w = views_features[0].shape\n",
    "        \n",
    "        flat_views = [view.view(ims,-1) for view in views_features]\n",
    "        stacked_views = stack(flat_views,dim=1)\n",
    "        pooled_views = self.view_pooling(stacked_views).squeeze()\n",
    "        \n",
    "        features = self.bn(pooled_views)\n",
    "        features = self.fc_1(features)\n",
    "        features = self.relu(features)\n",
    "        features = self.dropout(features)\n",
    "        features = self.fc_2(features)\n",
    "        \n",
    "        return features\n"
   ]
  },
  {
   "cell_type": "code",
   "execution_count": null,
   "metadata": {},
   "outputs": [],
   "source": []
  },
  {
   "cell_type": "code",
   "execution_count": null,
   "metadata": {},
   "outputs": [],
   "source": []
  }
 ],
 "metadata": {
  "kernelspec": {
   "display_name": "Python [conda env:pysource]",
   "language": "python",
   "name": "conda-env-pysource-py"
  },
  "language_info": {
   "codemirror_mode": {
    "name": "ipython",
    "version": 3
   },
   "file_extension": ".py",
   "mimetype": "text/x-python",
   "name": "python",
   "nbconvert_exporter": "python",
   "pygments_lexer": "ipython3",
   "version": "3.5.4"
  }
 },
 "nbformat": 4,
 "nbformat_minor": 2
}
