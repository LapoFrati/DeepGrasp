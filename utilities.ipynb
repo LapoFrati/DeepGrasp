{
 "cells": [
  {
   "cell_type": "code",
   "execution_count": null,
   "metadata": {},
   "outputs": [],
   "source": [
    "import numpy as np\n",
    "import torch.cuda\n",
    "import torch.nn as nn\n",
    "import torch.nn.functional as F\n",
    "from torch.autograd import Variable"
   ]
  },
  {
   "cell_type": "code",
   "execution_count": 1,
   "metadata": {},
   "outputs": [],
   "source": [
    "def check_trainable(val,model):\n",
    "    return filter(lambda p: p.requires_grad == val, model.parameters())\n",
    "\n",
    "def print_params(generator):\n",
    "    return list(map(lambda x: x.size(),generator))\n",
    "\n",
    "def count_params(generator):\n",
    "    return sum([np.prod(layer.size()) for layer in generator])\n",
    "\n",
    "def get_trainable_parameters(model):\n",
    "    #print(model)\n",
    "    trainable = list(check_trainable(True,model))\n",
    "    count_trainable = count_params(trainable)\n",
    "    count_not_trainable = count_params(check_trainable(False,model))\n",
    "    print(\"Trainable parameters:\\t{:>12}\\nFrozen parameters:\\t{:>12}\".format(count_trainable,count_not_trainable))\n",
    "    return trainable"
   ]
  },
  {
   "cell_type": "code",
   "execution_count": 2,
   "metadata": {},
   "outputs": [],
   "source": [
    "def varify(x, volatile=False, gpu_id=0):\n",
    "    if isinstance(x, list):\n",
    "        return [varify(y,volatile,gpu_id) for y in x]\n",
    "    if torch.cuda.is_available():\n",
    "        #x = x.cuda(async=True)\n",
    "        x = x.cuda(gpu_id)\n",
    "    return Variable(x, volatile=volatile)"
   ]
  },
  {
   "cell_type": "code",
   "execution_count": 3,
   "metadata": {},
   "outputs": [],
   "source": [
    "class AverageMeter(object):\n",
    "    \"\"\"Computes and stores the average and current value\"\"\"\n",
    "    def __init__(self):\n",
    "        self.reset()\n",
    "\n",
    "    def reset(self):\n",
    "        self.val = 0\n",
    "        self.avg = 0\n",
    "        self.sum = 0\n",
    "        self.count = 0\n",
    "\n",
    "    def update(self, val, n=1):\n",
    "        self.val = val\n",
    "        self.sum += val * n\n",
    "        self.count += n\n",
    "        self.avg = self.sum / self.count"
   ]
  },
  {
   "cell_type": "code",
   "execution_count": 4,
   "metadata": {},
   "outputs": [],
   "source": [
    "def accuracy(output, target, topk=(1,)):\n",
    "    \"\"\"Computes the precision@k for the specified values of k\"\"\"\n",
    "    maxk = max(topk)\n",
    "    batch_size = target.size(0)\n",
    "\n",
    "    _, pred = output.topk(maxk, 1, True, True)\n",
    "    pred = pred.t()\n",
    "    correct = pred.eq(target.view(1, -1).expand_as(pred))\n",
    "\n",
    "    res = []\n",
    "    for k in topk:\n",
    "        correct_k = correct[:k].view(-1).float().sum(0, keepdim=True)\n",
    "        res.append(correct_k.mul_(100.0 / batch_size))\n",
    "    return res"
   ]
  }
 ],
 "metadata": {
  "kernelspec": {
   "display_name": "Python [conda env:pytorch3.1]",
   "language": "python",
   "name": "conda-env-pytorch3.1-py"
  },
  "language_info": {
   "codemirror_mode": {
    "name": "ipython",
    "version": 3
   },
   "file_extension": ".py",
   "mimetype": "text/x-python",
   "name": "python",
   "nbconvert_exporter": "python",
   "pygments_lexer": "ipython3",
   "version": "3.6.5"
  }
 },
 "nbformat": 4,
 "nbformat_minor": 2
}
